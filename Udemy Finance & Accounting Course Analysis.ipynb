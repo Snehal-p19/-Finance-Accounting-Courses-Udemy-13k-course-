{
 "cells": [
  {
   "cell_type": "markdown",
   "metadata": {},
   "source": [
    "# Project Introduction\n",
    "-   This project aims to apply data analysis techniques to a real-world dataset (Udemy Courses)obtained from Kaggle. Students will explore trends, identify insights, and potentially make recommendations for instructors or the Udemy platform itself"
   ]
  },
  {
   "cell_type": "markdown",
   "metadata": {},
   "source": [
    "# Importing Libraries"
   ]
  },
  {
   "cell_type": "code",
   "execution_count": 63,
   "metadata": {},
   "outputs": [],
   "source": [
    "import numpy as np\n",
    "import pandas as pd\n",
    "import matplotlib.pyplot as plt\n",
    "import seaborn as sns\n",
    "import mysql.connector\n",
    "import kagglehub"
   ]
  },
  {
   "cell_type": "markdown",
   "metadata": {},
   "source": [
    "# Importing Data"
   ]
  },
  {
   "cell_type": "code",
   "execution_count": 64,
   "metadata": {},
   "outputs": [
    {
     "data": {
      "text/html": [
       "<div>\n",
       "<style scoped>\n",
       "    .dataframe tbody tr th:only-of-type {\n",
       "        vertical-align: middle;\n",
       "    }\n",
       "\n",
       "    .dataframe tbody tr th {\n",
       "        vertical-align: top;\n",
       "    }\n",
       "\n",
       "    .dataframe thead th {\n",
       "        text-align: right;\n",
       "    }\n",
       "</style>\n",
       "<table border=\"1\" class=\"dataframe\">\n",
       "  <thead>\n",
       "    <tr style=\"text-align: right;\">\n",
       "      <th></th>\n",
       "      <th>id</th>\n",
       "      <th>title</th>\n",
       "      <th>url</th>\n",
       "      <th>is_paid</th>\n",
       "      <th>num_subscribers</th>\n",
       "      <th>avg_rating</th>\n",
       "      <th>avg_rating_recent</th>\n",
       "      <th>rating</th>\n",
       "      <th>num_reviews</th>\n",
       "      <th>is_wishlisted</th>\n",
       "      <th>num_published_lectures</th>\n",
       "      <th>num_published_practice_tests</th>\n",
       "      <th>created</th>\n",
       "      <th>published_time</th>\n",
       "      <th>discount_price__amount</th>\n",
       "      <th>discount_price__currency</th>\n",
       "      <th>discount_price__price_string</th>\n",
       "      <th>price_detail__amount</th>\n",
       "      <th>price_detail__currency</th>\n",
       "      <th>price_detail__price_string</th>\n",
       "    </tr>\n",
       "  </thead>\n",
       "  <tbody>\n",
       "    <tr>\n",
       "      <th>0</th>\n",
       "      <td>762616</td>\n",
       "      <td>The Complete SQL Bootcamp 2020: Go from Zero t...</td>\n",
       "      <td>/course/the-complete-sql-bootcamp/</td>\n",
       "      <td>True</td>\n",
       "      <td>295509</td>\n",
       "      <td>4.66019</td>\n",
       "      <td>4.67874</td>\n",
       "      <td>4.67874</td>\n",
       "      <td>78006</td>\n",
       "      <td>False</td>\n",
       "      <td>84</td>\n",
       "      <td>0</td>\n",
       "      <td>2016-02-14T22:57:48Z</td>\n",
       "      <td>2016-04-06T05:16:11Z</td>\n",
       "      <td>455.0</td>\n",
       "      <td>INR</td>\n",
       "      <td>₹455</td>\n",
       "      <td>8640.0</td>\n",
       "      <td>INR</td>\n",
       "      <td>₹8,640</td>\n",
       "    </tr>\n",
       "    <tr>\n",
       "      <th>1</th>\n",
       "      <td>937678</td>\n",
       "      <td>Tableau 2020 A-Z: Hands-On Tableau Training fo...</td>\n",
       "      <td>/course/tableau10/</td>\n",
       "      <td>True</td>\n",
       "      <td>209070</td>\n",
       "      <td>4.58956</td>\n",
       "      <td>4.60015</td>\n",
       "      <td>4.60015</td>\n",
       "      <td>54581</td>\n",
       "      <td>False</td>\n",
       "      <td>78</td>\n",
       "      <td>0</td>\n",
       "      <td>2016-08-22T12:10:18Z</td>\n",
       "      <td>2016-08-23T16:59:49Z</td>\n",
       "      <td>455.0</td>\n",
       "      <td>INR</td>\n",
       "      <td>₹455</td>\n",
       "      <td>8640.0</td>\n",
       "      <td>INR</td>\n",
       "      <td>₹8,640</td>\n",
       "    </tr>\n",
       "    <tr>\n",
       "      <th>2</th>\n",
       "      <td>1361790</td>\n",
       "      <td>PMP Exam Prep Seminar -  PMBOK Guide 6</td>\n",
       "      <td>/course/pmp-pmbok6-35-pdus/</td>\n",
       "      <td>True</td>\n",
       "      <td>155282</td>\n",
       "      <td>4.59491</td>\n",
       "      <td>4.59326</td>\n",
       "      <td>4.59326</td>\n",
       "      <td>52653</td>\n",
       "      <td>False</td>\n",
       "      <td>292</td>\n",
       "      <td>2</td>\n",
       "      <td>2017-09-26T16:32:48Z</td>\n",
       "      <td>2017-11-14T23:58:14Z</td>\n",
       "      <td>455.0</td>\n",
       "      <td>INR</td>\n",
       "      <td>₹455</td>\n",
       "      <td>8640.0</td>\n",
       "      <td>INR</td>\n",
       "      <td>₹8,640</td>\n",
       "    </tr>\n",
       "    <tr>\n",
       "      <th>3</th>\n",
       "      <td>648826</td>\n",
       "      <td>The Complete Financial Analyst Course 2020</td>\n",
       "      <td>/course/the-complete-financial-analyst-course/</td>\n",
       "      <td>True</td>\n",
       "      <td>245860</td>\n",
       "      <td>4.54407</td>\n",
       "      <td>4.53772</td>\n",
       "      <td>4.53772</td>\n",
       "      <td>46447</td>\n",
       "      <td>False</td>\n",
       "      <td>338</td>\n",
       "      <td>0</td>\n",
       "      <td>2015-10-23T13:34:35Z</td>\n",
       "      <td>2016-01-21T01:38:48Z</td>\n",
       "      <td>455.0</td>\n",
       "      <td>INR</td>\n",
       "      <td>₹455</td>\n",
       "      <td>8640.0</td>\n",
       "      <td>INR</td>\n",
       "      <td>₹8,640</td>\n",
       "    </tr>\n",
       "    <tr>\n",
       "      <th>4</th>\n",
       "      <td>637930</td>\n",
       "      <td>An Entire MBA in 1 Course:Award Winning Busine...</td>\n",
       "      <td>/course/an-entire-mba-in-1-courseaward-winning...</td>\n",
       "      <td>True</td>\n",
       "      <td>374836</td>\n",
       "      <td>4.47080</td>\n",
       "      <td>4.47173</td>\n",
       "      <td>4.47173</td>\n",
       "      <td>41630</td>\n",
       "      <td>False</td>\n",
       "      <td>83</td>\n",
       "      <td>0</td>\n",
       "      <td>2015-10-12T06:39:46Z</td>\n",
       "      <td>2016-01-11T21:39:33Z</td>\n",
       "      <td>455.0</td>\n",
       "      <td>INR</td>\n",
       "      <td>₹455</td>\n",
       "      <td>8640.0</td>\n",
       "      <td>INR</td>\n",
       "      <td>₹8,640</td>\n",
       "    </tr>\n",
       "  </tbody>\n",
       "</table>\n",
       "</div>"
      ],
      "text/plain": [
       "        id                                              title  \\\n",
       "0   762616  The Complete SQL Bootcamp 2020: Go from Zero t...   \n",
       "1   937678  Tableau 2020 A-Z: Hands-On Tableau Training fo...   \n",
       "2  1361790             PMP Exam Prep Seminar -  PMBOK Guide 6   \n",
       "3   648826         The Complete Financial Analyst Course 2020   \n",
       "4   637930  An Entire MBA in 1 Course:Award Winning Busine...   \n",
       "\n",
       "                                                 url  is_paid  \\\n",
       "0                 /course/the-complete-sql-bootcamp/     True   \n",
       "1                                 /course/tableau10/     True   \n",
       "2                        /course/pmp-pmbok6-35-pdus/     True   \n",
       "3     /course/the-complete-financial-analyst-course/     True   \n",
       "4  /course/an-entire-mba-in-1-courseaward-winning...     True   \n",
       "\n",
       "   num_subscribers  avg_rating  avg_rating_recent   rating  num_reviews  \\\n",
       "0           295509     4.66019            4.67874  4.67874        78006   \n",
       "1           209070     4.58956            4.60015  4.60015        54581   \n",
       "2           155282     4.59491            4.59326  4.59326        52653   \n",
       "3           245860     4.54407            4.53772  4.53772        46447   \n",
       "4           374836     4.47080            4.47173  4.47173        41630   \n",
       "\n",
       "   is_wishlisted  num_published_lectures  num_published_practice_tests  \\\n",
       "0          False                      84                             0   \n",
       "1          False                      78                             0   \n",
       "2          False                     292                             2   \n",
       "3          False                     338                             0   \n",
       "4          False                      83                             0   \n",
       "\n",
       "                created        published_time  discount_price__amount  \\\n",
       "0  2016-02-14T22:57:48Z  2016-04-06T05:16:11Z                   455.0   \n",
       "1  2016-08-22T12:10:18Z  2016-08-23T16:59:49Z                   455.0   \n",
       "2  2017-09-26T16:32:48Z  2017-11-14T23:58:14Z                   455.0   \n",
       "3  2015-10-23T13:34:35Z  2016-01-21T01:38:48Z                   455.0   \n",
       "4  2015-10-12T06:39:46Z  2016-01-11T21:39:33Z                   455.0   \n",
       "\n",
       "  discount_price__currency discount_price__price_string  price_detail__amount  \\\n",
       "0                      INR                         ₹455                8640.0   \n",
       "1                      INR                         ₹455                8640.0   \n",
       "2                      INR                         ₹455                8640.0   \n",
       "3                      INR                         ₹455                8640.0   \n",
       "4                      INR                         ₹455                8640.0   \n",
       "\n",
       "  price_detail__currency price_detail__price_string  \n",
       "0                    INR                     ₹8,640  \n",
       "1                    INR                     ₹8,640  \n",
       "2                    INR                     ₹8,640  \n",
       "3                    INR                     ₹8,640  \n",
       "4                    INR                     ₹8,640  "
      ]
     },
     "execution_count": 64,
     "metadata": {},
     "output_type": "execute_result"
    }
   ],
   "source": [
    "df = pd.read_csv(\"D:/Courses/Data_Analysis/IMT/final_project/data/udemy_output_All_Finance__Accounting_p1_p626.csv\")\n",
    "df.head()"
   ]
  },
  {
   "cell_type": "markdown",
   "metadata": {},
   "source": [
    "# Explanatory Data Analysis (EDA)"
   ]
  },
  {
   "cell_type": "markdown",
   "metadata": {},
   "source": [
    "## Inspecting the DataFrame"
   ]
  },
  {
   "cell_type": "code",
   "execution_count": 65,
   "metadata": {},
   "outputs": [
    {
     "data": {
      "text/plain": [
       "(13608, 20)"
      ]
     },
     "execution_count": 65,
     "metadata": {},
     "output_type": "execute_result"
    }
   ],
   "source": [
    "df.shape        ## This function returns the number of rows and columns of the dataset"
   ]
  },
  {
   "cell_type": "code",
   "execution_count": 66,
   "metadata": {},
   "outputs": [
    {
     "name": "stdout",
     "output_type": "stream",
     "text": [
      "<class 'pandas.core.frame.DataFrame'>\n",
      "RangeIndex: 13608 entries, 0 to 13607\n",
      "Data columns (total 20 columns):\n",
      " #   Column                        Non-Null Count  Dtype  \n",
      "---  ------                        --------------  -----  \n",
      " 0   id                            13608 non-null  int64  \n",
      " 1   title                         13608 non-null  object \n",
      " 2   url                           13608 non-null  object \n",
      " 3   is_paid                       13608 non-null  bool   \n",
      " 4   num_subscribers               13608 non-null  int64  \n",
      " 5   avg_rating                    13608 non-null  float64\n",
      " 6   avg_rating_recent             13608 non-null  float64\n",
      " 7   rating                        13608 non-null  float64\n",
      " 8   num_reviews                   13608 non-null  int64  \n",
      " 9   is_wishlisted                 13608 non-null  bool   \n",
      " 10  num_published_lectures        13608 non-null  int64  \n",
      " 11  num_published_practice_tests  13608 non-null  int64  \n",
      " 12  created                       13608 non-null  object \n",
      " 13  published_time                13608 non-null  object \n",
      " 14  discount_price__amount        12205 non-null  float64\n",
      " 15  discount_price__currency      12205 non-null  object \n",
      " 16  discount_price__price_string  12205 non-null  object \n",
      " 17  price_detail__amount          13111 non-null  float64\n",
      " 18  price_detail__currency        13111 non-null  object \n",
      " 19  price_detail__price_string    13111 non-null  object \n",
      "dtypes: bool(2), float64(5), int64(5), object(8)\n",
      "memory usage: 1.9+ MB\n"
     ]
    }
   ],
   "source": [
    "df.info()       ## This function prints information about a DataFrame including the index dtype and column dtypes, non-null values and memory usage."
   ]
  },
  {
   "cell_type": "markdown",
   "metadata": {},
   "source": [
    "### What does Every Feature hold and whether it is needed or not"
   ]
  },
  {
   "cell_type": "markdown",
   "metadata": {},
   "source": [
    "###### **`id`** : The course ID of that particular course. \n",
    "---\n",
    "###### **`title`** : Shows the unique names of the courses available under the development category on Udemy.\n",
    "---\n",
    "###### **`url`**: Gives the URL of the course. \n",
    "---\n",
    "###### **`is_paid`** : Returns a boolean value displaying true if the course is paid and false if otherwise. \n",
    "---\n",
    "###### **`num_subscribers`** : Shows the number of people who have subscribed that course.\n",
    "---\n",
    "###### **`avg_rating`** : Shows the average rating of the course.\n",
    "---\n",
    "###### **`avg rating recent`** : Reflects the recent changes in the average rating.\n",
    "---\n",
    "###### **`num_reviews`** : Gives us an idea related to the number of ratings that a course has received.\n",
    "---\n",
    "###### **`num_ published_lectures`** : Shows the number of lectures the course offers.\n",
    "---\n",
    "###### **`num_ published_ practice_tests`** : Gives an idea of the number of practice tests that a course offers. \n",
    "---\n",
    "###### **`created`** : The time of creation of the course. \n",
    "---\n",
    "###### **`published_time`** : Time of publishing the course.\n",
    "---\n",
    "###### **`discounted_ price_amount`** : The discounted price which a certain course is being offered at. \n",
    "---\n",
    "###### **`discounted_ price_currency`** : The currency corresponding to the discounted price which a certain course is being offered at. \n",
    "---\n",
    "###### **`price_ detail_amount`** : The original price of a particular course.\n",
    "---\n",
    "###### **`price_ detail_currency`** : The currency corresponding to the price detail amount for a course.\n",
    "---"
   ]
  },
  {
   "cell_type": "markdown",
   "metadata": {},
   "source": [
    "## Generating a summary for all the numerical values we have"
   ]
  },
  {
   "cell_type": "code",
   "execution_count": 67,
   "metadata": {},
   "outputs": [
    {
     "data": {
      "text/html": [
       "<div>\n",
       "<style scoped>\n",
       "    .dataframe tbody tr th:only-of-type {\n",
       "        vertical-align: middle;\n",
       "    }\n",
       "\n",
       "    .dataframe tbody tr th {\n",
       "        vertical-align: top;\n",
       "    }\n",
       "\n",
       "    .dataframe thead th {\n",
       "        text-align: right;\n",
       "    }\n",
       "</style>\n",
       "<table border=\"1\" class=\"dataframe\">\n",
       "  <thead>\n",
       "    <tr style=\"text-align: right;\">\n",
       "      <th></th>\n",
       "      <th>id</th>\n",
       "      <th>num_subscribers</th>\n",
       "      <th>avg_rating</th>\n",
       "      <th>avg_rating_recent</th>\n",
       "      <th>rating</th>\n",
       "      <th>num_reviews</th>\n",
       "      <th>num_published_lectures</th>\n",
       "      <th>num_published_practice_tests</th>\n",
       "      <th>discount_price__amount</th>\n",
       "      <th>price_detail__amount</th>\n",
       "    </tr>\n",
       "  </thead>\n",
       "  <tbody>\n",
       "    <tr>\n",
       "      <th>count</th>\n",
       "      <td>1.360800e+04</td>\n",
       "      <td>13608.000000</td>\n",
       "      <td>13608.000000</td>\n",
       "      <td>13608.000000</td>\n",
       "      <td>13608.000000</td>\n",
       "      <td>13608.000000</td>\n",
       "      <td>13608.000000</td>\n",
       "      <td>13608.000000</td>\n",
       "      <td>12205.000000</td>\n",
       "      <td>13111.000000</td>\n",
       "    </tr>\n",
       "    <tr>\n",
       "      <th>mean</th>\n",
       "      <td>1.681721e+06</td>\n",
       "      <td>2847.010435</td>\n",
       "      <td>3.923293</td>\n",
       "      <td>3.912242</td>\n",
       "      <td>3.912242</td>\n",
       "      <td>243.169827</td>\n",
       "      <td>32.224794</td>\n",
       "      <td>0.110523</td>\n",
       "      <td>493.943794</td>\n",
       "      <td>4646.992602</td>\n",
       "    </tr>\n",
       "    <tr>\n",
       "      <th>std</th>\n",
       "      <td>9.539271e+05</td>\n",
       "      <td>9437.865634</td>\n",
       "      <td>1.031304</td>\n",
       "      <td>1.039237</td>\n",
       "      <td>1.039237</td>\n",
       "      <td>1580.965895</td>\n",
       "      <td>42.766911</td>\n",
       "      <td>0.623501</td>\n",
       "      <td>267.827260</td>\n",
       "      <td>3109.101019</td>\n",
       "    </tr>\n",
       "    <tr>\n",
       "      <th>min</th>\n",
       "      <td>2.762000e+03</td>\n",
       "      <td>0.000000</td>\n",
       "      <td>0.000000</td>\n",
       "      <td>0.000000</td>\n",
       "      <td>0.000000</td>\n",
       "      <td>0.000000</td>\n",
       "      <td>0.000000</td>\n",
       "      <td>0.000000</td>\n",
       "      <td>455.000000</td>\n",
       "      <td>1280.000000</td>\n",
       "    </tr>\n",
       "    <tr>\n",
       "      <th>25%</th>\n",
       "      <td>8.580862e+05</td>\n",
       "      <td>62.000000</td>\n",
       "      <td>3.800000</td>\n",
       "      <td>3.787315</td>\n",
       "      <td>3.787315</td>\n",
       "      <td>7.000000</td>\n",
       "      <td>12.000000</td>\n",
       "      <td>0.000000</td>\n",
       "      <td>455.000000</td>\n",
       "      <td>1600.000000</td>\n",
       "    </tr>\n",
       "    <tr>\n",
       "      <th>50%</th>\n",
       "      <td>1.623421e+06</td>\n",
       "      <td>533.000000</td>\n",
       "      <td>4.194440</td>\n",
       "      <td>4.181735</td>\n",
       "      <td>4.181735</td>\n",
       "      <td>24.000000</td>\n",
       "      <td>21.000000</td>\n",
       "      <td>0.000000</td>\n",
       "      <td>455.000000</td>\n",
       "      <td>3200.000000</td>\n",
       "    </tr>\n",
       "    <tr>\n",
       "      <th>75%</th>\n",
       "      <td>2.503720e+06</td>\n",
       "      <td>2279.500000</td>\n",
       "      <td>4.450000</td>\n",
       "      <td>4.452105</td>\n",
       "      <td>4.452105</td>\n",
       "      <td>87.000000</td>\n",
       "      <td>37.000000</td>\n",
       "      <td>0.000000</td>\n",
       "      <td>455.000000</td>\n",
       "      <td>8640.000000</td>\n",
       "    </tr>\n",
       "    <tr>\n",
       "      <th>max</th>\n",
       "      <td>3.486006e+06</td>\n",
       "      <td>374836.000000</td>\n",
       "      <td>5.000000</td>\n",
       "      <td>5.000000</td>\n",
       "      <td>5.000000</td>\n",
       "      <td>78006.000000</td>\n",
       "      <td>699.000000</td>\n",
       "      <td>6.000000</td>\n",
       "      <td>3200.000000</td>\n",
       "      <td>12800.000000</td>\n",
       "    </tr>\n",
       "  </tbody>\n",
       "</table>\n",
       "</div>"
      ],
      "text/plain": [
       "                 id  num_subscribers    avg_rating  avg_rating_recent  \\\n",
       "count  1.360800e+04     13608.000000  13608.000000       13608.000000   \n",
       "mean   1.681721e+06      2847.010435      3.923293           3.912242   \n",
       "std    9.539271e+05      9437.865634      1.031304           1.039237   \n",
       "min    2.762000e+03         0.000000      0.000000           0.000000   \n",
       "25%    8.580862e+05        62.000000      3.800000           3.787315   \n",
       "50%    1.623421e+06       533.000000      4.194440           4.181735   \n",
       "75%    2.503720e+06      2279.500000      4.450000           4.452105   \n",
       "max    3.486006e+06    374836.000000      5.000000           5.000000   \n",
       "\n",
       "             rating   num_reviews  num_published_lectures  \\\n",
       "count  13608.000000  13608.000000            13608.000000   \n",
       "mean       3.912242    243.169827               32.224794   \n",
       "std        1.039237   1580.965895               42.766911   \n",
       "min        0.000000      0.000000                0.000000   \n",
       "25%        3.787315      7.000000               12.000000   \n",
       "50%        4.181735     24.000000               21.000000   \n",
       "75%        4.452105     87.000000               37.000000   \n",
       "max        5.000000  78006.000000              699.000000   \n",
       "\n",
       "       num_published_practice_tests  discount_price__amount  \\\n",
       "count                  13608.000000            12205.000000   \n",
       "mean                       0.110523              493.943794   \n",
       "std                        0.623501              267.827260   \n",
       "min                        0.000000              455.000000   \n",
       "25%                        0.000000              455.000000   \n",
       "50%                        0.000000              455.000000   \n",
       "75%                        0.000000              455.000000   \n",
       "max                        6.000000             3200.000000   \n",
       "\n",
       "       price_detail__amount  \n",
       "count          13111.000000  \n",
       "mean            4646.992602  \n",
       "std             3109.101019  \n",
       "min             1280.000000  \n",
       "25%             1600.000000  \n",
       "50%             3200.000000  \n",
       "75%             8640.000000  \n",
       "max            12800.000000  "
      ]
     },
     "execution_count": 67,
     "metadata": {},
     "output_type": "execute_result"
    }
   ],
   "source": [
    "df.describe()       ## This function generates descriptive statistics that summarize the central tendency, dispersion and shape of a dataset’s distribution, excluding NaN values."
   ]
  },
  {
   "cell_type": "code",
   "execution_count": 68,
   "metadata": {},
   "outputs": [
    {
     "data": {
      "text/plain": [
       "id                              13608\n",
       "title                           13563\n",
       "url                             13608\n",
       "is_paid                             2\n",
       "num_subscribers                  4875\n",
       "avg_rating                       1965\n",
       "avg_rating_recent               11781\n",
       "rating                          11781\n",
       "num_reviews                      1285\n",
       "is_wishlisted                       1\n",
       "num_published_lectures            301\n",
       "num_published_practice_tests        7\n",
       "created                         13607\n",
       "published_time                  13605\n",
       "discount_price__amount             53\n",
       "discount_price__currency            1\n",
       "discount_price__price_string       53\n",
       "price_detail__amount               37\n",
       "price_detail__currency              1\n",
       "price_detail__price_string         37\n",
       "dtype: int64"
      ]
     },
     "execution_count": 68,
     "metadata": {},
     "output_type": "execute_result"
    }
   ],
   "source": [
    "df.nunique()        ## This function returns the number of unique values in each column."
   ]
  },
  {
   "cell_type": "markdown",
   "metadata": {},
   "source": [
    "## Dropping the unnecessary columns"
   ]
  },
  {
   "cell_type": "code",
   "execution_count": 69,
   "metadata": {},
   "outputs": [
    {
     "data": {
      "text/html": [
       "<div>\n",
       "<style scoped>\n",
       "    .dataframe tbody tr th:only-of-type {\n",
       "        vertical-align: middle;\n",
       "    }\n",
       "\n",
       "    .dataframe tbody tr th {\n",
       "        vertical-align: top;\n",
       "    }\n",
       "\n",
       "    .dataframe thead th {\n",
       "        text-align: right;\n",
       "    }\n",
       "</style>\n",
       "<table border=\"1\" class=\"dataframe\">\n",
       "  <thead>\n",
       "    <tr style=\"text-align: right;\">\n",
       "      <th></th>\n",
       "      <th>id</th>\n",
       "      <th>title</th>\n",
       "      <th>is_paid</th>\n",
       "      <th>num_subscribers</th>\n",
       "      <th>avg_rating</th>\n",
       "      <th>rating</th>\n",
       "      <th>num_reviews</th>\n",
       "      <th>num_published_lectures</th>\n",
       "      <th>created</th>\n",
       "      <th>published_time</th>\n",
       "      <th>discount_price__amount</th>\n",
       "      <th>price_detail__amount</th>\n",
       "      <th>price_detail__currency</th>\n",
       "    </tr>\n",
       "  </thead>\n",
       "  <tbody>\n",
       "    <tr>\n",
       "      <th>0</th>\n",
       "      <td>762616</td>\n",
       "      <td>The Complete SQL Bootcamp 2020: Go from Zero t...</td>\n",
       "      <td>True</td>\n",
       "      <td>295509</td>\n",
       "      <td>4.66019</td>\n",
       "      <td>4.67874</td>\n",
       "      <td>78006</td>\n",
       "      <td>84</td>\n",
       "      <td>2016-02-14T22:57:48Z</td>\n",
       "      <td>2016-04-06T05:16:11Z</td>\n",
       "      <td>455.0</td>\n",
       "      <td>8640.0</td>\n",
       "      <td>INR</td>\n",
       "    </tr>\n",
       "    <tr>\n",
       "      <th>1</th>\n",
       "      <td>937678</td>\n",
       "      <td>Tableau 2020 A-Z: Hands-On Tableau Training fo...</td>\n",
       "      <td>True</td>\n",
       "      <td>209070</td>\n",
       "      <td>4.58956</td>\n",
       "      <td>4.60015</td>\n",
       "      <td>54581</td>\n",
       "      <td>78</td>\n",
       "      <td>2016-08-22T12:10:18Z</td>\n",
       "      <td>2016-08-23T16:59:49Z</td>\n",
       "      <td>455.0</td>\n",
       "      <td>8640.0</td>\n",
       "      <td>INR</td>\n",
       "    </tr>\n",
       "    <tr>\n",
       "      <th>2</th>\n",
       "      <td>1361790</td>\n",
       "      <td>PMP Exam Prep Seminar -  PMBOK Guide 6</td>\n",
       "      <td>True</td>\n",
       "      <td>155282</td>\n",
       "      <td>4.59491</td>\n",
       "      <td>4.59326</td>\n",
       "      <td>52653</td>\n",
       "      <td>292</td>\n",
       "      <td>2017-09-26T16:32:48Z</td>\n",
       "      <td>2017-11-14T23:58:14Z</td>\n",
       "      <td>455.0</td>\n",
       "      <td>8640.0</td>\n",
       "      <td>INR</td>\n",
       "    </tr>\n",
       "    <tr>\n",
       "      <th>3</th>\n",
       "      <td>648826</td>\n",
       "      <td>The Complete Financial Analyst Course 2020</td>\n",
       "      <td>True</td>\n",
       "      <td>245860</td>\n",
       "      <td>4.54407</td>\n",
       "      <td>4.53772</td>\n",
       "      <td>46447</td>\n",
       "      <td>338</td>\n",
       "      <td>2015-10-23T13:34:35Z</td>\n",
       "      <td>2016-01-21T01:38:48Z</td>\n",
       "      <td>455.0</td>\n",
       "      <td>8640.0</td>\n",
       "      <td>INR</td>\n",
       "    </tr>\n",
       "    <tr>\n",
       "      <th>4</th>\n",
       "      <td>637930</td>\n",
       "      <td>An Entire MBA in 1 Course:Award Winning Busine...</td>\n",
       "      <td>True</td>\n",
       "      <td>374836</td>\n",
       "      <td>4.47080</td>\n",
       "      <td>4.47173</td>\n",
       "      <td>41630</td>\n",
       "      <td>83</td>\n",
       "      <td>2015-10-12T06:39:46Z</td>\n",
       "      <td>2016-01-11T21:39:33Z</td>\n",
       "      <td>455.0</td>\n",
       "      <td>8640.0</td>\n",
       "      <td>INR</td>\n",
       "    </tr>\n",
       "  </tbody>\n",
       "</table>\n",
       "</div>"
      ],
      "text/plain": [
       "        id                                              title  is_paid  \\\n",
       "0   762616  The Complete SQL Bootcamp 2020: Go from Zero t...     True   \n",
       "1   937678  Tableau 2020 A-Z: Hands-On Tableau Training fo...     True   \n",
       "2  1361790             PMP Exam Prep Seminar -  PMBOK Guide 6     True   \n",
       "3   648826         The Complete Financial Analyst Course 2020     True   \n",
       "4   637930  An Entire MBA in 1 Course:Award Winning Busine...     True   \n",
       "\n",
       "   num_subscribers  avg_rating   rating  num_reviews  num_published_lectures  \\\n",
       "0           295509     4.66019  4.67874        78006                      84   \n",
       "1           209070     4.58956  4.60015        54581                      78   \n",
       "2           155282     4.59491  4.59326        52653                     292   \n",
       "3           245860     4.54407  4.53772        46447                     338   \n",
       "4           374836     4.47080  4.47173        41630                      83   \n",
       "\n",
       "                created        published_time  discount_price__amount  \\\n",
       "0  2016-02-14T22:57:48Z  2016-04-06T05:16:11Z                   455.0   \n",
       "1  2016-08-22T12:10:18Z  2016-08-23T16:59:49Z                   455.0   \n",
       "2  2017-09-26T16:32:48Z  2017-11-14T23:58:14Z                   455.0   \n",
       "3  2015-10-23T13:34:35Z  2016-01-21T01:38:48Z                   455.0   \n",
       "4  2015-10-12T06:39:46Z  2016-01-11T21:39:33Z                   455.0   \n",
       "\n",
       "   price_detail__amount price_detail__currency  \n",
       "0                8640.0                    INR  \n",
       "1                8640.0                    INR  \n",
       "2                8640.0                    INR  \n",
       "3                8640.0                    INR  \n",
       "4                8640.0                    INR  "
      ]
     },
     "execution_count": 69,
     "metadata": {},
     "output_type": "execute_result"
    }
   ],
   "source": [
    "df.drop(['url', 'is_wishlisted', \n",
    "         'discount_price__currency', 'discount_price__price_string',\n",
    "         'avg_rating_recent','price_detail__price_string', \n",
    "         'num_published_practice_tests'], axis = 1, inplace = True)\n",
    "\n",
    "df.head()"
   ]
  },
  {
   "cell_type": "markdown",
   "metadata": {},
   "source": [
    "## Renaming the Columns so it gives more insight to what data each column holds"
   ]
  },
  {
   "cell_type": "code",
   "execution_count": 70,
   "metadata": {},
   "outputs": [
    {
     "data": {
      "text/html": [
       "<div>\n",
       "<style scoped>\n",
       "    .dataframe tbody tr th:only-of-type {\n",
       "        vertical-align: middle;\n",
       "    }\n",
       "\n",
       "    .dataframe tbody tr th {\n",
       "        vertical-align: top;\n",
       "    }\n",
       "\n",
       "    .dataframe thead th {\n",
       "        text-align: right;\n",
       "    }\n",
       "</style>\n",
       "<table border=\"1\" class=\"dataframe\">\n",
       "  <thead>\n",
       "    <tr style=\"text-align: right;\">\n",
       "      <th></th>\n",
       "      <th>id</th>\n",
       "      <th>Title</th>\n",
       "      <th>is_paid</th>\n",
       "      <th>Subscribers</th>\n",
       "      <th>Average rating</th>\n",
       "      <th>Rating</th>\n",
       "      <th>Num reviews</th>\n",
       "      <th>Lectures</th>\n",
       "      <th>created</th>\n",
       "      <th>Time</th>\n",
       "      <th>Discount price</th>\n",
       "      <th>Price</th>\n",
       "      <th>Currency</th>\n",
       "    </tr>\n",
       "  </thead>\n",
       "  <tbody>\n",
       "    <tr>\n",
       "      <th>0</th>\n",
       "      <td>762616</td>\n",
       "      <td>The Complete SQL Bootcamp 2020: Go from Zero t...</td>\n",
       "      <td>True</td>\n",
       "      <td>295509</td>\n",
       "      <td>4.66019</td>\n",
       "      <td>4.67874</td>\n",
       "      <td>78006</td>\n",
       "      <td>84</td>\n",
       "      <td>2016-02-14T22:57:48Z</td>\n",
       "      <td>2016-04-06T05:16:11Z</td>\n",
       "      <td>455.0</td>\n",
       "      <td>8640.0</td>\n",
       "      <td>INR</td>\n",
       "    </tr>\n",
       "    <tr>\n",
       "      <th>1</th>\n",
       "      <td>937678</td>\n",
       "      <td>Tableau 2020 A-Z: Hands-On Tableau Training fo...</td>\n",
       "      <td>True</td>\n",
       "      <td>209070</td>\n",
       "      <td>4.58956</td>\n",
       "      <td>4.60015</td>\n",
       "      <td>54581</td>\n",
       "      <td>78</td>\n",
       "      <td>2016-08-22T12:10:18Z</td>\n",
       "      <td>2016-08-23T16:59:49Z</td>\n",
       "      <td>455.0</td>\n",
       "      <td>8640.0</td>\n",
       "      <td>INR</td>\n",
       "    </tr>\n",
       "    <tr>\n",
       "      <th>2</th>\n",
       "      <td>1361790</td>\n",
       "      <td>PMP Exam Prep Seminar -  PMBOK Guide 6</td>\n",
       "      <td>True</td>\n",
       "      <td>155282</td>\n",
       "      <td>4.59491</td>\n",
       "      <td>4.59326</td>\n",
       "      <td>52653</td>\n",
       "      <td>292</td>\n",
       "      <td>2017-09-26T16:32:48Z</td>\n",
       "      <td>2017-11-14T23:58:14Z</td>\n",
       "      <td>455.0</td>\n",
       "      <td>8640.0</td>\n",
       "      <td>INR</td>\n",
       "    </tr>\n",
       "    <tr>\n",
       "      <th>3</th>\n",
       "      <td>648826</td>\n",
       "      <td>The Complete Financial Analyst Course 2020</td>\n",
       "      <td>True</td>\n",
       "      <td>245860</td>\n",
       "      <td>4.54407</td>\n",
       "      <td>4.53772</td>\n",
       "      <td>46447</td>\n",
       "      <td>338</td>\n",
       "      <td>2015-10-23T13:34:35Z</td>\n",
       "      <td>2016-01-21T01:38:48Z</td>\n",
       "      <td>455.0</td>\n",
       "      <td>8640.0</td>\n",
       "      <td>INR</td>\n",
       "    </tr>\n",
       "    <tr>\n",
       "      <th>4</th>\n",
       "      <td>637930</td>\n",
       "      <td>An Entire MBA in 1 Course:Award Winning Busine...</td>\n",
       "      <td>True</td>\n",
       "      <td>374836</td>\n",
       "      <td>4.47080</td>\n",
       "      <td>4.47173</td>\n",
       "      <td>41630</td>\n",
       "      <td>83</td>\n",
       "      <td>2015-10-12T06:39:46Z</td>\n",
       "      <td>2016-01-11T21:39:33Z</td>\n",
       "      <td>455.0</td>\n",
       "      <td>8640.0</td>\n",
       "      <td>INR</td>\n",
       "    </tr>\n",
       "  </tbody>\n",
       "</table>\n",
       "</div>"
      ],
      "text/plain": [
       "        id                                              Title  is_paid  \\\n",
       "0   762616  The Complete SQL Bootcamp 2020: Go from Zero t...     True   \n",
       "1   937678  Tableau 2020 A-Z: Hands-On Tableau Training fo...     True   \n",
       "2  1361790             PMP Exam Prep Seminar -  PMBOK Guide 6     True   \n",
       "3   648826         The Complete Financial Analyst Course 2020     True   \n",
       "4   637930  An Entire MBA in 1 Course:Award Winning Busine...     True   \n",
       "\n",
       "   Subscribers  Average rating   Rating  Num reviews  Lectures  \\\n",
       "0       295509         4.66019  4.67874        78006        84   \n",
       "1       209070         4.58956  4.60015        54581        78   \n",
       "2       155282         4.59491  4.59326        52653       292   \n",
       "3       245860         4.54407  4.53772        46447       338   \n",
       "4       374836         4.47080  4.47173        41630        83   \n",
       "\n",
       "                created                  Time  Discount price   Price Currency  \n",
       "0  2016-02-14T22:57:48Z  2016-04-06T05:16:11Z           455.0  8640.0      INR  \n",
       "1  2016-08-22T12:10:18Z  2016-08-23T16:59:49Z           455.0  8640.0      INR  \n",
       "2  2017-09-26T16:32:48Z  2017-11-14T23:58:14Z           455.0  8640.0      INR  \n",
       "3  2015-10-23T13:34:35Z  2016-01-21T01:38:48Z           455.0  8640.0      INR  \n",
       "4  2015-10-12T06:39:46Z  2016-01-11T21:39:33Z           455.0  8640.0      INR  "
      ]
     },
     "execution_count": 70,
     "metadata": {},
     "output_type": "execute_result"
    }
   ],
   "source": [
    "df.rename({\"title\":\"Title\",\"avg_rating\": \"Average rating\", \n",
    "        \"rating\":\"Rating\",\n",
    "        \"num_subscribers\":\"Subscribers\", \"published_time\":\"Time\",\n",
    "        \"num_reviews\": \"Num reviews\",\n",
    "        \"num_published_lectures\":\"Lectures\",\n",
    "        \"discount_price__amount\":\"Discount price\",\n",
    "        \"price_detail__amount\":\"Price\", \n",
    "        \"price_detail__currency\": \"Currency\"}, axis = 1, inplace = True)\n",
    "df.head()"
   ]
  },
  {
   "cell_type": "markdown",
   "metadata": {},
   "source": [
    "##  Checking the Data Formating"
   ]
  },
  {
   "cell_type": "code",
   "execution_count": 71,
   "metadata": {},
   "outputs": [
    {
     "data": {
      "text/plain": [
       "id                  int64\n",
       "Title              object\n",
       "is_paid              bool\n",
       "Subscribers         int64\n",
       "Average rating    float64\n",
       "Rating            float64\n",
       "Num reviews         int64\n",
       "Lectures            int64\n",
       "created            object\n",
       "Time               object\n",
       "Discount price    float64\n",
       "Price             float64\n",
       "Currency           object\n",
       "dtype: object"
      ]
     },
     "execution_count": 71,
     "metadata": {},
     "output_type": "execute_result"
    }
   ],
   "source": [
    "df.dtypes"
   ]
  },
  {
   "cell_type": "markdown",
   "metadata": {},
   "source": [
    "## Checking for Duplicated Values"
   ]
  },
  {
   "cell_type": "code",
   "execution_count": 72,
   "metadata": {},
   "outputs": [
    {
     "data": {
      "text/plain": [
       "np.int64(0)"
      ]
     },
     "execution_count": 72,
     "metadata": {},
     "output_type": "execute_result"
    }
   ],
   "source": [
    "df.duplicated().sum()       ## This function returns the number of duplicate rows in the DataFrame."
   ]
  },
  {
   "cell_type": "markdown",
   "metadata": {},
   "source": [
    "## Fixing the Date Format"
   ]
  },
  {
   "cell_type": "code",
   "execution_count": null,
   "metadata": {},
   "outputs": [
    {
     "data": {
      "text/html": [
       "<div>\n",
       "<style scoped>\n",
       "    .dataframe tbody tr th:only-of-type {\n",
       "        vertical-align: middle;\n",
       "    }\n",
       "\n",
       "    .dataframe tbody tr th {\n",
       "        vertical-align: top;\n",
       "    }\n",
       "\n",
       "    .dataframe thead th {\n",
       "        text-align: right;\n",
       "    }\n",
       "</style>\n",
       "<table border=\"1\" class=\"dataframe\">\n",
       "  <thead>\n",
       "    <tr style=\"text-align: right;\">\n",
       "      <th></th>\n",
       "      <th>id</th>\n",
       "      <th>Title</th>\n",
       "      <th>is_paid</th>\n",
       "      <th>Subscribers</th>\n",
       "      <th>Average rating</th>\n",
       "      <th>Rating</th>\n",
       "      <th>Num reviews</th>\n",
       "      <th>Lectures</th>\n",
       "      <th>created</th>\n",
       "      <th>Time</th>\n",
       "      <th>Discount price</th>\n",
       "      <th>Price</th>\n",
       "      <th>Currency</th>\n",
       "    </tr>\n",
       "  </thead>\n",
       "  <tbody>\n",
       "    <tr>\n",
       "      <th>0</th>\n",
       "      <td>762616</td>\n",
       "      <td>The Complete SQL Bootcamp 2020: Go from Zero t...</td>\n",
       "      <td>True</td>\n",
       "      <td>295509</td>\n",
       "      <td>4.66019</td>\n",
       "      <td>4.67874</td>\n",
       "      <td>78006</td>\n",
       "      <td>84</td>\n",
       "      <td>2016-02-14 22:57:48+00:00</td>\n",
       "      <td>2016-04-06 05:16:11+00:00</td>\n",
       "      <td>455.0</td>\n",
       "      <td>8640.0</td>\n",
       "      <td>INR</td>\n",
       "    </tr>\n",
       "    <tr>\n",
       "      <th>1</th>\n",
       "      <td>937678</td>\n",
       "      <td>Tableau 2020 A-Z: Hands-On Tableau Training fo...</td>\n",
       "      <td>True</td>\n",
       "      <td>209070</td>\n",
       "      <td>4.58956</td>\n",
       "      <td>4.60015</td>\n",
       "      <td>54581</td>\n",
       "      <td>78</td>\n",
       "      <td>2016-08-22 12:10:18+00:00</td>\n",
       "      <td>2016-08-23 16:59:49+00:00</td>\n",
       "      <td>455.0</td>\n",
       "      <td>8640.0</td>\n",
       "      <td>INR</td>\n",
       "    </tr>\n",
       "    <tr>\n",
       "      <th>2</th>\n",
       "      <td>1361790</td>\n",
       "      <td>PMP Exam Prep Seminar -  PMBOK Guide 6</td>\n",
       "      <td>True</td>\n",
       "      <td>155282</td>\n",
       "      <td>4.59491</td>\n",
       "      <td>4.59326</td>\n",
       "      <td>52653</td>\n",
       "      <td>292</td>\n",
       "      <td>2017-09-26 16:32:48+00:00</td>\n",
       "      <td>2017-11-14 23:58:14+00:00</td>\n",
       "      <td>455.0</td>\n",
       "      <td>8640.0</td>\n",
       "      <td>INR</td>\n",
       "    </tr>\n",
       "    <tr>\n",
       "      <th>3</th>\n",
       "      <td>648826</td>\n",
       "      <td>The Complete Financial Analyst Course 2020</td>\n",
       "      <td>True</td>\n",
       "      <td>245860</td>\n",
       "      <td>4.54407</td>\n",
       "      <td>4.53772</td>\n",
       "      <td>46447</td>\n",
       "      <td>338</td>\n",
       "      <td>2015-10-23 13:34:35+00:00</td>\n",
       "      <td>2016-01-21 01:38:48+00:00</td>\n",
       "      <td>455.0</td>\n",
       "      <td>8640.0</td>\n",
       "      <td>INR</td>\n",
       "    </tr>\n",
       "    <tr>\n",
       "      <th>4</th>\n",
       "      <td>637930</td>\n",
       "      <td>An Entire MBA in 1 Course:Award Winning Busine...</td>\n",
       "      <td>True</td>\n",
       "      <td>374836</td>\n",
       "      <td>4.47080</td>\n",
       "      <td>4.47173</td>\n",
       "      <td>41630</td>\n",
       "      <td>83</td>\n",
       "      <td>2015-10-12 06:39:46+00:00</td>\n",
       "      <td>2016-01-11 21:39:33+00:00</td>\n",
       "      <td>455.0</td>\n",
       "      <td>8640.0</td>\n",
       "      <td>INR</td>\n",
       "    </tr>\n",
       "  </tbody>\n",
       "</table>\n",
       "</div>"
      ],
      "text/plain": [
       "        id                                              Title  is_paid  \\\n",
       "0   762616  The Complete SQL Bootcamp 2020: Go from Zero t...     True   \n",
       "1   937678  Tableau 2020 A-Z: Hands-On Tableau Training fo...     True   \n",
       "2  1361790             PMP Exam Prep Seminar -  PMBOK Guide 6     True   \n",
       "3   648826         The Complete Financial Analyst Course 2020     True   \n",
       "4   637930  An Entire MBA in 1 Course:Award Winning Busine...     True   \n",
       "\n",
       "   Subscribers  Average rating   Rating  Num reviews  Lectures  \\\n",
       "0       295509         4.66019  4.67874        78006        84   \n",
       "1       209070         4.58956  4.60015        54581        78   \n",
       "2       155282         4.59491  4.59326        52653       292   \n",
       "3       245860         4.54407  4.53772        46447       338   \n",
       "4       374836         4.47080  4.47173        41630        83   \n",
       "\n",
       "                    created                      Time  Discount price   Price  \\\n",
       "0 2016-02-14 22:57:48+00:00 2016-04-06 05:16:11+00:00           455.0  8640.0   \n",
       "1 2016-08-22 12:10:18+00:00 2016-08-23 16:59:49+00:00           455.0  8640.0   \n",
       "2 2017-09-26 16:32:48+00:00 2017-11-14 23:58:14+00:00           455.0  8640.0   \n",
       "3 2015-10-23 13:34:35+00:00 2016-01-21 01:38:48+00:00           455.0  8640.0   \n",
       "4 2015-10-12 06:39:46+00:00 2016-01-11 21:39:33+00:00           455.0  8640.0   \n",
       "\n",
       "  Currency  \n",
       "0      INR  \n",
       "1      INR  \n",
       "2      INR  \n",
       "3      INR  \n",
       "4      INR  "
      ]
     },
     "execution_count": 73,
     "metadata": {},
     "output_type": "execute_result"
    }
   ],
   "source": [
    "df[\"Time\"] = pd.to_datetime(df[\"Time\"])\n",
    "df['created'] = pd.to_datetime(df['created'])       ## This function converts the argument to datetime.\n",
    "df.head()"
   ]
  },
  {
   "cell_type": "markdown",
   "metadata": {},
   "source": [
    "### Convert datetime columns to string format compatible with MySQL\n"
   ]
  },
  {
   "cell_type": "code",
   "execution_count": 74,
   "metadata": {},
   "outputs": [
    {
     "data": {
      "text/html": [
       "<div>\n",
       "<style scoped>\n",
       "    .dataframe tbody tr th:only-of-type {\n",
       "        vertical-align: middle;\n",
       "    }\n",
       "\n",
       "    .dataframe tbody tr th {\n",
       "        vertical-align: top;\n",
       "    }\n",
       "\n",
       "    .dataframe thead th {\n",
       "        text-align: right;\n",
       "    }\n",
       "</style>\n",
       "<table border=\"1\" class=\"dataframe\">\n",
       "  <thead>\n",
       "    <tr style=\"text-align: right;\">\n",
       "      <th></th>\n",
       "      <th>id</th>\n",
       "      <th>Title</th>\n",
       "      <th>is_paid</th>\n",
       "      <th>Subscribers</th>\n",
       "      <th>Average rating</th>\n",
       "      <th>Rating</th>\n",
       "      <th>Num reviews</th>\n",
       "      <th>Lectures</th>\n",
       "      <th>created</th>\n",
       "      <th>Time</th>\n",
       "      <th>Discount price</th>\n",
       "      <th>Price</th>\n",
       "      <th>Currency</th>\n",
       "    </tr>\n",
       "  </thead>\n",
       "  <tbody>\n",
       "    <tr>\n",
       "      <th>0</th>\n",
       "      <td>762616</td>\n",
       "      <td>The Complete SQL Bootcamp 2020: Go from Zero t...</td>\n",
       "      <td>True</td>\n",
       "      <td>295509</td>\n",
       "      <td>4.66019</td>\n",
       "      <td>4.67874</td>\n",
       "      <td>78006</td>\n",
       "      <td>84</td>\n",
       "      <td>2016-02-14 22:57:48</td>\n",
       "      <td>2016-04-06 05:16:11</td>\n",
       "      <td>455.0</td>\n",
       "      <td>8640.0</td>\n",
       "      <td>INR</td>\n",
       "    </tr>\n",
       "    <tr>\n",
       "      <th>1</th>\n",
       "      <td>937678</td>\n",
       "      <td>Tableau 2020 A-Z: Hands-On Tableau Training fo...</td>\n",
       "      <td>True</td>\n",
       "      <td>209070</td>\n",
       "      <td>4.58956</td>\n",
       "      <td>4.60015</td>\n",
       "      <td>54581</td>\n",
       "      <td>78</td>\n",
       "      <td>2016-08-22 12:10:18</td>\n",
       "      <td>2016-08-23 16:59:49</td>\n",
       "      <td>455.0</td>\n",
       "      <td>8640.0</td>\n",
       "      <td>INR</td>\n",
       "    </tr>\n",
       "    <tr>\n",
       "      <th>2</th>\n",
       "      <td>1361790</td>\n",
       "      <td>PMP Exam Prep Seminar -  PMBOK Guide 6</td>\n",
       "      <td>True</td>\n",
       "      <td>155282</td>\n",
       "      <td>4.59491</td>\n",
       "      <td>4.59326</td>\n",
       "      <td>52653</td>\n",
       "      <td>292</td>\n",
       "      <td>2017-09-26 16:32:48</td>\n",
       "      <td>2017-11-14 23:58:14</td>\n",
       "      <td>455.0</td>\n",
       "      <td>8640.0</td>\n",
       "      <td>INR</td>\n",
       "    </tr>\n",
       "    <tr>\n",
       "      <th>3</th>\n",
       "      <td>648826</td>\n",
       "      <td>The Complete Financial Analyst Course 2020</td>\n",
       "      <td>True</td>\n",
       "      <td>245860</td>\n",
       "      <td>4.54407</td>\n",
       "      <td>4.53772</td>\n",
       "      <td>46447</td>\n",
       "      <td>338</td>\n",
       "      <td>2015-10-23 13:34:35</td>\n",
       "      <td>2016-01-21 01:38:48</td>\n",
       "      <td>455.0</td>\n",
       "      <td>8640.0</td>\n",
       "      <td>INR</td>\n",
       "    </tr>\n",
       "    <tr>\n",
       "      <th>4</th>\n",
       "      <td>637930</td>\n",
       "      <td>An Entire MBA in 1 Course:Award Winning Busine...</td>\n",
       "      <td>True</td>\n",
       "      <td>374836</td>\n",
       "      <td>4.47080</td>\n",
       "      <td>4.47173</td>\n",
       "      <td>41630</td>\n",
       "      <td>83</td>\n",
       "      <td>2015-10-12 06:39:46</td>\n",
       "      <td>2016-01-11 21:39:33</td>\n",
       "      <td>455.0</td>\n",
       "      <td>8640.0</td>\n",
       "      <td>INR</td>\n",
       "    </tr>\n",
       "  </tbody>\n",
       "</table>\n",
       "</div>"
      ],
      "text/plain": [
       "        id                                              Title  is_paid  \\\n",
       "0   762616  The Complete SQL Bootcamp 2020: Go from Zero t...     True   \n",
       "1   937678  Tableau 2020 A-Z: Hands-On Tableau Training fo...     True   \n",
       "2  1361790             PMP Exam Prep Seminar -  PMBOK Guide 6     True   \n",
       "3   648826         The Complete Financial Analyst Course 2020     True   \n",
       "4   637930  An Entire MBA in 1 Course:Award Winning Busine...     True   \n",
       "\n",
       "   Subscribers  Average rating   Rating  Num reviews  Lectures  \\\n",
       "0       295509         4.66019  4.67874        78006        84   \n",
       "1       209070         4.58956  4.60015        54581        78   \n",
       "2       155282         4.59491  4.59326        52653       292   \n",
       "3       245860         4.54407  4.53772        46447       338   \n",
       "4       374836         4.47080  4.47173        41630        83   \n",
       "\n",
       "               created                 Time  Discount price   Price Currency  \n",
       "0  2016-02-14 22:57:48  2016-04-06 05:16:11           455.0  8640.0      INR  \n",
       "1  2016-08-22 12:10:18  2016-08-23 16:59:49           455.0  8640.0      INR  \n",
       "2  2017-09-26 16:32:48  2017-11-14 23:58:14           455.0  8640.0      INR  \n",
       "3  2015-10-23 13:34:35  2016-01-21 01:38:48           455.0  8640.0      INR  \n",
       "4  2015-10-12 06:39:46  2016-01-11 21:39:33           455.0  8640.0      INR  "
      ]
     },
     "execution_count": 74,
     "metadata": {},
     "output_type": "execute_result"
    }
   ],
   "source": [
    "df['created'] = df['created'].dt.strftime('%Y-%m-%d %H:%M:%S')      \n",
    "df['Time'] = df['Time'].dt.strftime('%Y-%m-%d %H:%M:%S')            ## This function converts the argument to a string in the specified date format.\n",
    "df.head()"
   ]
  },
  {
   "cell_type": "markdown",
   "metadata": {},
   "source": [
    "# Fixing the conversion rate for the price\n",
    "\n",
    "### Convert currency to USD for consistency in analysis.\n"
   ]
  },
  {
   "cell_type": "code",
   "execution_count": null,
   "metadata": {},
   "outputs": [
    {
     "data": {
      "text/html": [
       "<div>\n",
       "<style scoped>\n",
       "    .dataframe tbody tr th:only-of-type {\n",
       "        vertical-align: middle;\n",
       "    }\n",
       "\n",
       "    .dataframe tbody tr th {\n",
       "        vertical-align: top;\n",
       "    }\n",
       "\n",
       "    .dataframe thead th {\n",
       "        text-align: right;\n",
       "    }\n",
       "</style>\n",
       "<table border=\"1\" class=\"dataframe\">\n",
       "  <thead>\n",
       "    <tr style=\"text-align: right;\">\n",
       "      <th></th>\n",
       "      <th>id</th>\n",
       "      <th>Title</th>\n",
       "      <th>is_paid</th>\n",
       "      <th>Subscribers</th>\n",
       "      <th>Average rating</th>\n",
       "      <th>Rating</th>\n",
       "      <th>Num reviews</th>\n",
       "      <th>Lectures</th>\n",
       "      <th>created</th>\n",
       "      <th>Time</th>\n",
       "      <th>Discount price</th>\n",
       "      <th>Price</th>\n",
       "      <th>Currency</th>\n",
       "    </tr>\n",
       "  </thead>\n",
       "  <tbody>\n",
       "    <tr>\n",
       "      <th>0</th>\n",
       "      <td>762616</td>\n",
       "      <td>The Complete SQL Bootcamp 2020: Go from Zero t...</td>\n",
       "      <td>True</td>\n",
       "      <td>295509</td>\n",
       "      <td>4.66019</td>\n",
       "      <td>4.67874</td>\n",
       "      <td>78006</td>\n",
       "      <td>84</td>\n",
       "      <td>2016-02-14 22:57:48</td>\n",
       "      <td>2016-04-06 05:16:11</td>\n",
       "      <td>5.542674</td>\n",
       "      <td>105.249888</td>\n",
       "      <td>INR</td>\n",
       "    </tr>\n",
       "    <tr>\n",
       "      <th>1</th>\n",
       "      <td>937678</td>\n",
       "      <td>Tableau 2020 A-Z: Hands-On Tableau Training fo...</td>\n",
       "      <td>True</td>\n",
       "      <td>209070</td>\n",
       "      <td>4.58956</td>\n",
       "      <td>4.60015</td>\n",
       "      <td>54581</td>\n",
       "      <td>78</td>\n",
       "      <td>2016-08-22 12:10:18</td>\n",
       "      <td>2016-08-23 16:59:49</td>\n",
       "      <td>5.542674</td>\n",
       "      <td>105.249888</td>\n",
       "      <td>INR</td>\n",
       "    </tr>\n",
       "    <tr>\n",
       "      <th>2</th>\n",
       "      <td>1361790</td>\n",
       "      <td>PMP Exam Prep Seminar -  PMBOK Guide 6</td>\n",
       "      <td>True</td>\n",
       "      <td>155282</td>\n",
       "      <td>4.59491</td>\n",
       "      <td>4.59326</td>\n",
       "      <td>52653</td>\n",
       "      <td>292</td>\n",
       "      <td>2017-09-26 16:32:48</td>\n",
       "      <td>2017-11-14 23:58:14</td>\n",
       "      <td>5.542674</td>\n",
       "      <td>105.249888</td>\n",
       "      <td>INR</td>\n",
       "    </tr>\n",
       "    <tr>\n",
       "      <th>3</th>\n",
       "      <td>648826</td>\n",
       "      <td>The Complete Financial Analyst Course 2020</td>\n",
       "      <td>True</td>\n",
       "      <td>245860</td>\n",
       "      <td>4.54407</td>\n",
       "      <td>4.53772</td>\n",
       "      <td>46447</td>\n",
       "      <td>338</td>\n",
       "      <td>2015-10-23 13:34:35</td>\n",
       "      <td>2016-01-21 01:38:48</td>\n",
       "      <td>5.542674</td>\n",
       "      <td>105.249888</td>\n",
       "      <td>INR</td>\n",
       "    </tr>\n",
       "    <tr>\n",
       "      <th>4</th>\n",
       "      <td>637930</td>\n",
       "      <td>An Entire MBA in 1 Course:Award Winning Busine...</td>\n",
       "      <td>True</td>\n",
       "      <td>374836</td>\n",
       "      <td>4.47080</td>\n",
       "      <td>4.47173</td>\n",
       "      <td>41630</td>\n",
       "      <td>83</td>\n",
       "      <td>2015-10-12 06:39:46</td>\n",
       "      <td>2016-01-11 21:39:33</td>\n",
       "      <td>5.542674</td>\n",
       "      <td>105.249888</td>\n",
       "      <td>INR</td>\n",
       "    </tr>\n",
       "  </tbody>\n",
       "</table>\n",
       "</div>"
      ],
      "text/plain": [
       "        id                                              Title  is_paid  \\\n",
       "0   762616  The Complete SQL Bootcamp 2020: Go from Zero t...     True   \n",
       "1   937678  Tableau 2020 A-Z: Hands-On Tableau Training fo...     True   \n",
       "2  1361790             PMP Exam Prep Seminar -  PMBOK Guide 6     True   \n",
       "3   648826         The Complete Financial Analyst Course 2020     True   \n",
       "4   637930  An Entire MBA in 1 Course:Award Winning Busine...     True   \n",
       "\n",
       "   Subscribers  Average rating   Rating  Num reviews  Lectures  \\\n",
       "0       295509         4.66019  4.67874        78006        84   \n",
       "1       209070         4.58956  4.60015        54581        78   \n",
       "2       155282         4.59491  4.59326        52653       292   \n",
       "3       245860         4.54407  4.53772        46447       338   \n",
       "4       374836         4.47080  4.47173        41630        83   \n",
       "\n",
       "               created                 Time  Discount price       Price  \\\n",
       "0  2016-02-14 22:57:48  2016-04-06 05:16:11        5.542674  105.249888   \n",
       "1  2016-08-22 12:10:18  2016-08-23 16:59:49        5.542674  105.249888   \n",
       "2  2017-09-26 16:32:48  2017-11-14 23:58:14        5.542674  105.249888   \n",
       "3  2015-10-23 13:34:35  2016-01-21 01:38:48        5.542674  105.249888   \n",
       "4  2015-10-12 06:39:46  2016-01-11 21:39:33        5.542674  105.249888   \n",
       "\n",
       "  Currency  \n",
       "0      INR  \n",
       "1      INR  \n",
       "2      INR  \n",
       "3      INR  \n",
       "4      INR  "
      ]
     },
     "execution_count": 75,
     "metadata": {},
     "output_type": "execute_result"
    }
   ],
   "source": [
    "conversion_rate = 0.0121817  # Example conversion rate (1 Rupee = 0.0121817 USD)\n",
    "df['Price'] = df['Price'] * conversion_rate\n",
    "df['Discount price'] = df['Discount price'] * conversion_rate    ## This function multiplies the argument by the conversion_rate to convert the currency to USD.\n",
    "df.head()"
   ]
  },
  {
   "cell_type": "markdown",
   "metadata": {},
   "source": [
    "### replacing the currency with USD "
   ]
  },
  {
   "cell_type": "code",
   "execution_count": null,
   "metadata": {},
   "outputs": [
    {
     "name": "stderr",
     "output_type": "stream",
     "text": [
      "C:\\Users\\maraw\\AppData\\Local\\Temp\\ipykernel_17680\\1661069966.py:1: FutureWarning: A value is trying to be set on a copy of a DataFrame or Series through chained assignment using an inplace method.\n",
      "The behavior will change in pandas 3.0. This inplace method will never work because the intermediate object on which we are setting values always behaves as a copy.\n",
      "\n",
      "For example, when doing 'df[col].method(value, inplace=True)', try using 'df.method({col: value}, inplace=True)' or df[col] = df[col].method(value) instead, to perform the operation inplace on the original object.\n",
      "\n",
      "\n",
      "  df['Currency'].replace(\"INR\", \"USD\", inplace = True)\n"
     ]
    },
    {
     "data": {
      "text/html": [
       "<div>\n",
       "<style scoped>\n",
       "    .dataframe tbody tr th:only-of-type {\n",
       "        vertical-align: middle;\n",
       "    }\n",
       "\n",
       "    .dataframe tbody tr th {\n",
       "        vertical-align: top;\n",
       "    }\n",
       "\n",
       "    .dataframe thead th {\n",
       "        text-align: right;\n",
       "    }\n",
       "</style>\n",
       "<table border=\"1\" class=\"dataframe\">\n",
       "  <thead>\n",
       "    <tr style=\"text-align: right;\">\n",
       "      <th></th>\n",
       "      <th>id</th>\n",
       "      <th>Title</th>\n",
       "      <th>is_paid</th>\n",
       "      <th>Subscribers</th>\n",
       "      <th>Average rating</th>\n",
       "      <th>Rating</th>\n",
       "      <th>Num reviews</th>\n",
       "      <th>Lectures</th>\n",
       "      <th>created</th>\n",
       "      <th>Time</th>\n",
       "      <th>Discount price</th>\n",
       "      <th>Price</th>\n",
       "      <th>Currency</th>\n",
       "    </tr>\n",
       "  </thead>\n",
       "  <tbody>\n",
       "    <tr>\n",
       "      <th>0</th>\n",
       "      <td>762616</td>\n",
       "      <td>The Complete SQL Bootcamp 2020: Go from Zero t...</td>\n",
       "      <td>True</td>\n",
       "      <td>295509</td>\n",
       "      <td>4.66019</td>\n",
       "      <td>4.67874</td>\n",
       "      <td>78006</td>\n",
       "      <td>84</td>\n",
       "      <td>2016-02-14 22:57:48</td>\n",
       "      <td>2016-04-06 05:16:11</td>\n",
       "      <td>5.542674</td>\n",
       "      <td>105.249888</td>\n",
       "      <td>USD</td>\n",
       "    </tr>\n",
       "    <tr>\n",
       "      <th>1</th>\n",
       "      <td>937678</td>\n",
       "      <td>Tableau 2020 A-Z: Hands-On Tableau Training fo...</td>\n",
       "      <td>True</td>\n",
       "      <td>209070</td>\n",
       "      <td>4.58956</td>\n",
       "      <td>4.60015</td>\n",
       "      <td>54581</td>\n",
       "      <td>78</td>\n",
       "      <td>2016-08-22 12:10:18</td>\n",
       "      <td>2016-08-23 16:59:49</td>\n",
       "      <td>5.542674</td>\n",
       "      <td>105.249888</td>\n",
       "      <td>USD</td>\n",
       "    </tr>\n",
       "    <tr>\n",
       "      <th>2</th>\n",
       "      <td>1361790</td>\n",
       "      <td>PMP Exam Prep Seminar -  PMBOK Guide 6</td>\n",
       "      <td>True</td>\n",
       "      <td>155282</td>\n",
       "      <td>4.59491</td>\n",
       "      <td>4.59326</td>\n",
       "      <td>52653</td>\n",
       "      <td>292</td>\n",
       "      <td>2017-09-26 16:32:48</td>\n",
       "      <td>2017-11-14 23:58:14</td>\n",
       "      <td>5.542674</td>\n",
       "      <td>105.249888</td>\n",
       "      <td>USD</td>\n",
       "    </tr>\n",
       "    <tr>\n",
       "      <th>3</th>\n",
       "      <td>648826</td>\n",
       "      <td>The Complete Financial Analyst Course 2020</td>\n",
       "      <td>True</td>\n",
       "      <td>245860</td>\n",
       "      <td>4.54407</td>\n",
       "      <td>4.53772</td>\n",
       "      <td>46447</td>\n",
       "      <td>338</td>\n",
       "      <td>2015-10-23 13:34:35</td>\n",
       "      <td>2016-01-21 01:38:48</td>\n",
       "      <td>5.542674</td>\n",
       "      <td>105.249888</td>\n",
       "      <td>USD</td>\n",
       "    </tr>\n",
       "    <tr>\n",
       "      <th>4</th>\n",
       "      <td>637930</td>\n",
       "      <td>An Entire MBA in 1 Course:Award Winning Busine...</td>\n",
       "      <td>True</td>\n",
       "      <td>374836</td>\n",
       "      <td>4.47080</td>\n",
       "      <td>4.47173</td>\n",
       "      <td>41630</td>\n",
       "      <td>83</td>\n",
       "      <td>2015-10-12 06:39:46</td>\n",
       "      <td>2016-01-11 21:39:33</td>\n",
       "      <td>5.542674</td>\n",
       "      <td>105.249888</td>\n",
       "      <td>USD</td>\n",
       "    </tr>\n",
       "  </tbody>\n",
       "</table>\n",
       "</div>"
      ],
      "text/plain": [
       "        id                                              Title  is_paid  \\\n",
       "0   762616  The Complete SQL Bootcamp 2020: Go from Zero t...     True   \n",
       "1   937678  Tableau 2020 A-Z: Hands-On Tableau Training fo...     True   \n",
       "2  1361790             PMP Exam Prep Seminar -  PMBOK Guide 6     True   \n",
       "3   648826         The Complete Financial Analyst Course 2020     True   \n",
       "4   637930  An Entire MBA in 1 Course:Award Winning Busine...     True   \n",
       "\n",
       "   Subscribers  Average rating   Rating  Num reviews  Lectures  \\\n",
       "0       295509         4.66019  4.67874        78006        84   \n",
       "1       209070         4.58956  4.60015        54581        78   \n",
       "2       155282         4.59491  4.59326        52653       292   \n",
       "3       245860         4.54407  4.53772        46447       338   \n",
       "4       374836         4.47080  4.47173        41630        83   \n",
       "\n",
       "               created                 Time  Discount price       Price  \\\n",
       "0  2016-02-14 22:57:48  2016-04-06 05:16:11        5.542674  105.249888   \n",
       "1  2016-08-22 12:10:18  2016-08-23 16:59:49        5.542674  105.249888   \n",
       "2  2017-09-26 16:32:48  2017-11-14 23:58:14        5.542674  105.249888   \n",
       "3  2015-10-23 13:34:35  2016-01-21 01:38:48        5.542674  105.249888   \n",
       "4  2015-10-12 06:39:46  2016-01-11 21:39:33        5.542674  105.249888   \n",
       "\n",
       "  Currency  \n",
       "0      USD  \n",
       "1      USD  \n",
       "2      USD  \n",
       "3      USD  \n",
       "4      USD  "
      ]
     },
     "execution_count": 76,
     "metadata": {},
     "output_type": "execute_result"
    }
   ],
   "source": [
    "df['Currency'].replace(\"INR\", \"USD\", inplace = True)        ## This function replaces the value 'INR' with 'USD' in the 'Currency' column.\n",
    "df.head()"
   ]
  },
  {
   "cell_type": "markdown",
   "metadata": {},
   "source": [
    "## Adding a discount percentage column"
   ]
  },
  {
   "cell_type": "code",
   "execution_count": null,
   "metadata": {},
   "outputs": [
    {
     "data": {
      "text/html": [
       "<div>\n",
       "<style scoped>\n",
       "    .dataframe tbody tr th:only-of-type {\n",
       "        vertical-align: middle;\n",
       "    }\n",
       "\n",
       "    .dataframe tbody tr th {\n",
       "        vertical-align: top;\n",
       "    }\n",
       "\n",
       "    .dataframe thead th {\n",
       "        text-align: right;\n",
       "    }\n",
       "</style>\n",
       "<table border=\"1\" class=\"dataframe\">\n",
       "  <thead>\n",
       "    <tr style=\"text-align: right;\">\n",
       "      <th></th>\n",
       "      <th>id</th>\n",
       "      <th>Title</th>\n",
       "      <th>is_paid</th>\n",
       "      <th>Subscribers</th>\n",
       "      <th>Average rating</th>\n",
       "      <th>Rating</th>\n",
       "      <th>Num reviews</th>\n",
       "      <th>Lectures</th>\n",
       "      <th>created</th>\n",
       "      <th>Time</th>\n",
       "      <th>Discount price</th>\n",
       "      <th>Price</th>\n",
       "      <th>Currency</th>\n",
       "      <th>Discount Percentage</th>\n",
       "    </tr>\n",
       "  </thead>\n",
       "  <tbody>\n",
       "    <tr>\n",
       "      <th>0</th>\n",
       "      <td>762616</td>\n",
       "      <td>The Complete SQL Bootcamp 2020: Go from Zero t...</td>\n",
       "      <td>True</td>\n",
       "      <td>295509</td>\n",
       "      <td>4.66019</td>\n",
       "      <td>4.67874</td>\n",
       "      <td>78006</td>\n",
       "      <td>84</td>\n",
       "      <td>2016-02-14 22:57:48</td>\n",
       "      <td>2016-04-06 05:16:11</td>\n",
       "      <td>5.542674</td>\n",
       "      <td>105.249888</td>\n",
       "      <td>USD</td>\n",
       "      <td>94.73%</td>\n",
       "    </tr>\n",
       "    <tr>\n",
       "      <th>1</th>\n",
       "      <td>937678</td>\n",
       "      <td>Tableau 2020 A-Z: Hands-On Tableau Training fo...</td>\n",
       "      <td>True</td>\n",
       "      <td>209070</td>\n",
       "      <td>4.58956</td>\n",
       "      <td>4.60015</td>\n",
       "      <td>54581</td>\n",
       "      <td>78</td>\n",
       "      <td>2016-08-22 12:10:18</td>\n",
       "      <td>2016-08-23 16:59:49</td>\n",
       "      <td>5.542674</td>\n",
       "      <td>105.249888</td>\n",
       "      <td>USD</td>\n",
       "      <td>94.73%</td>\n",
       "    </tr>\n",
       "    <tr>\n",
       "      <th>2</th>\n",
       "      <td>1361790</td>\n",
       "      <td>PMP Exam Prep Seminar -  PMBOK Guide 6</td>\n",
       "      <td>True</td>\n",
       "      <td>155282</td>\n",
       "      <td>4.59491</td>\n",
       "      <td>4.59326</td>\n",
       "      <td>52653</td>\n",
       "      <td>292</td>\n",
       "      <td>2017-09-26 16:32:48</td>\n",
       "      <td>2017-11-14 23:58:14</td>\n",
       "      <td>5.542674</td>\n",
       "      <td>105.249888</td>\n",
       "      <td>USD</td>\n",
       "      <td>94.73%</td>\n",
       "    </tr>\n",
       "    <tr>\n",
       "      <th>3</th>\n",
       "      <td>648826</td>\n",
       "      <td>The Complete Financial Analyst Course 2020</td>\n",
       "      <td>True</td>\n",
       "      <td>245860</td>\n",
       "      <td>4.54407</td>\n",
       "      <td>4.53772</td>\n",
       "      <td>46447</td>\n",
       "      <td>338</td>\n",
       "      <td>2015-10-23 13:34:35</td>\n",
       "      <td>2016-01-21 01:38:48</td>\n",
       "      <td>5.542674</td>\n",
       "      <td>105.249888</td>\n",
       "      <td>USD</td>\n",
       "      <td>94.73%</td>\n",
       "    </tr>\n",
       "    <tr>\n",
       "      <th>4</th>\n",
       "      <td>637930</td>\n",
       "      <td>An Entire MBA in 1 Course:Award Winning Busine...</td>\n",
       "      <td>True</td>\n",
       "      <td>374836</td>\n",
       "      <td>4.47080</td>\n",
       "      <td>4.47173</td>\n",
       "      <td>41630</td>\n",
       "      <td>83</td>\n",
       "      <td>2015-10-12 06:39:46</td>\n",
       "      <td>2016-01-11 21:39:33</td>\n",
       "      <td>5.542674</td>\n",
       "      <td>105.249888</td>\n",
       "      <td>USD</td>\n",
       "      <td>94.73%</td>\n",
       "    </tr>\n",
       "  </tbody>\n",
       "</table>\n",
       "</div>"
      ],
      "text/plain": [
       "        id                                              Title  is_paid  \\\n",
       "0   762616  The Complete SQL Bootcamp 2020: Go from Zero t...     True   \n",
       "1   937678  Tableau 2020 A-Z: Hands-On Tableau Training fo...     True   \n",
       "2  1361790             PMP Exam Prep Seminar -  PMBOK Guide 6     True   \n",
       "3   648826         The Complete Financial Analyst Course 2020     True   \n",
       "4   637930  An Entire MBA in 1 Course:Award Winning Busine...     True   \n",
       "\n",
       "   Subscribers  Average rating   Rating  Num reviews  Lectures  \\\n",
       "0       295509         4.66019  4.67874        78006        84   \n",
       "1       209070         4.58956  4.60015        54581        78   \n",
       "2       155282         4.59491  4.59326        52653       292   \n",
       "3       245860         4.54407  4.53772        46447       338   \n",
       "4       374836         4.47080  4.47173        41630        83   \n",
       "\n",
       "               created                 Time  Discount price       Price  \\\n",
       "0  2016-02-14 22:57:48  2016-04-06 05:16:11        5.542674  105.249888   \n",
       "1  2016-08-22 12:10:18  2016-08-23 16:59:49        5.542674  105.249888   \n",
       "2  2017-09-26 16:32:48  2017-11-14 23:58:14        5.542674  105.249888   \n",
       "3  2015-10-23 13:34:35  2016-01-21 01:38:48        5.542674  105.249888   \n",
       "4  2015-10-12 06:39:46  2016-01-11 21:39:33        5.542674  105.249888   \n",
       "\n",
       "  Currency Discount Percentage  \n",
       "0      USD              94.73%  \n",
       "1      USD              94.73%  \n",
       "2      USD              94.73%  \n",
       "3      USD              94.73%  \n",
       "4      USD              94.73%  "
      ]
     },
     "execution_count": 77,
     "metadata": {},
     "output_type": "execute_result"
    }
   ],
   "source": [
    "df['Discount Percentage'] = ((df['Price'] - df['Discount price']) / df['Price']) * 100      \n",
    "df['Discount Percentage'] = df['Discount Percentage'].round(2).astype(str) + \"%\"        ## This function calculates the discount percentage and rounds it to 2 decimal places and adds it to the 'Discount Percentage' column.\n",
    "df.head()"
   ]
  },
  {
   "cell_type": "markdown",
   "metadata": {},
   "source": [
    "# Checking for null values"
   ]
  },
  {
   "cell_type": "code",
   "execution_count": 78,
   "metadata": {},
   "outputs": [
    {
     "data": {
      "text/plain": [
       "id                        0\n",
       "Title                     0\n",
       "is_paid                   0\n",
       "Subscribers               0\n",
       "Average rating            0\n",
       "Rating                    0\n",
       "Num reviews               0\n",
       "Lectures                  0\n",
       "created                   0\n",
       "Time                      0\n",
       "Discount price         1403\n",
       "Price                   497\n",
       "Currency                497\n",
       "Discount Percentage       0\n",
       "dtype: int64"
      ]
     },
     "execution_count": 78,
     "metadata": {},
     "output_type": "execute_result"
    }
   ],
   "source": [
    "df.isna().sum()     ## This function returns the number of missing values in the dataset."
   ]
  },
  {
   "cell_type": "markdown",
   "metadata": {},
   "source": [
    "# Fixing the missing values"
   ]
  },
  {
   "cell_type": "markdown",
   "metadata": {},
   "source": [
    "## Fixing the Prices"
   ]
  },
  {
   "cell_type": "code",
   "execution_count": 79,
   "metadata": {},
   "outputs": [
    {
     "data": {
      "text/plain": [
       "id                       0\n",
       "Title                    0\n",
       "is_paid                  0\n",
       "Subscribers              0\n",
       "Average rating           0\n",
       "Rating                   0\n",
       "Num reviews              0\n",
       "Lectures                 0\n",
       "created                  0\n",
       "Time                     0\n",
       "Discount price           0\n",
       "Price                    0\n",
       "Currency               497\n",
       "Discount Percentage      0\n",
       "dtype: int64"
      ]
     },
     "execution_count": 79,
     "metadata": {},
     "output_type": "execute_result"
    }
   ],
   "source": [
    "for column in ['Price','Discount price']:\n",
    "    df.fillna({column : df[column].median()}, inplace = True)           ## This function fills the missing values in the 'Price' and 'Discount price' columns with the median value of the respective columns.\n",
    "df.isna().sum()"
   ]
  },
  {
   "cell_type": "markdown",
   "metadata": {},
   "source": [
    "## Fixing the missing currency"
   ]
  },
  {
   "cell_type": "code",
   "execution_count": 80,
   "metadata": {},
   "outputs": [
    {
     "name": "stdout",
     "output_type": "stream",
     "text": [
      "0\n"
     ]
    }
   ],
   "source": [
    "df.fillna({\"Currency\":\"Unknown\"}, inplace = True) # Changing all the null values in price currency column to 'unknown'\n",
    "print(df['Currency'].isna().sum())"
   ]
  },
  {
   "cell_type": "code",
   "execution_count": 81,
   "metadata": {},
   "outputs": [
    {
     "data": {
      "text/plain": [
       "array(['USD', 'Unknown'], dtype=object)"
      ]
     },
     "execution_count": 81,
     "metadata": {},
     "output_type": "execute_result"
    }
   ],
   "source": [
    "df['Currency'].unique()     ## This function returns the unique values in the 'Currency' column."
   ]
  },
  {
   "cell_type": "markdown",
   "metadata": {},
   "source": [
    "# Typo correction"
   ]
  },
  {
   "cell_type": "code",
   "execution_count": 82,
   "metadata": {},
   "outputs": [],
   "source": [
    "df['Title'] = df['Title'].str.lower()   # Converting the title column to lower case \n",
    "df['Title'] = df['Title'].str.strip().replace(r'\\s+', ' ', regex=True)      # Removing extra spaces\n",
    "df['Title'] = df['Title'].str.replace(r'[^\\w\\s]', '', regex=True)           # Removing special characters"
   ]
  },
  {
   "cell_type": "markdown",
   "metadata": {},
   "source": [
    "# Categorizing the Courses"
   ]
  },
  {
   "cell_type": "code",
   "execution_count": null,
   "metadata": {},
   "outputs": [
    {
     "data": {
      "text/html": [
       "<div>\n",
       "<style scoped>\n",
       "    .dataframe tbody tr th:only-of-type {\n",
       "        vertical-align: middle;\n",
       "    }\n",
       "\n",
       "    .dataframe tbody tr th {\n",
       "        vertical-align: top;\n",
       "    }\n",
       "\n",
       "    .dataframe thead th {\n",
       "        text-align: right;\n",
       "    }\n",
       "</style>\n",
       "<table border=\"1\" class=\"dataframe\">\n",
       "  <thead>\n",
       "    <tr style=\"text-align: right;\">\n",
       "      <th></th>\n",
       "      <th>id</th>\n",
       "      <th>Title</th>\n",
       "      <th>is_paid</th>\n",
       "      <th>Subscribers</th>\n",
       "      <th>Average rating</th>\n",
       "      <th>Rating</th>\n",
       "      <th>Num reviews</th>\n",
       "      <th>Lectures</th>\n",
       "      <th>created</th>\n",
       "      <th>Time</th>\n",
       "      <th>Discount price</th>\n",
       "      <th>Price</th>\n",
       "      <th>Currency</th>\n",
       "      <th>Discount Percentage</th>\n",
       "      <th>Category</th>\n",
       "    </tr>\n",
       "  </thead>\n",
       "  <tbody>\n",
       "    <tr>\n",
       "      <th>0</th>\n",
       "      <td>762616</td>\n",
       "      <td>the complete sql bootcamp 2020 go from zero to...</td>\n",
       "      <td>True</td>\n",
       "      <td>295509</td>\n",
       "      <td>4.66019</td>\n",
       "      <td>4.67874</td>\n",
       "      <td>78006</td>\n",
       "      <td>84</td>\n",
       "      <td>2016-02-14 22:57:48</td>\n",
       "      <td>2016-04-06 05:16:11</td>\n",
       "      <td>5.542674</td>\n",
       "      <td>105.249888</td>\n",
       "      <td>USD</td>\n",
       "      <td>94.73%</td>\n",
       "      <td>Database</td>\n",
       "    </tr>\n",
       "    <tr>\n",
       "      <th>1</th>\n",
       "      <td>937678</td>\n",
       "      <td>tableau 2020 az handson tableau training for d...</td>\n",
       "      <td>True</td>\n",
       "      <td>209070</td>\n",
       "      <td>4.58956</td>\n",
       "      <td>4.60015</td>\n",
       "      <td>54581</td>\n",
       "      <td>78</td>\n",
       "      <td>2016-08-22 12:10:18</td>\n",
       "      <td>2016-08-23 16:59:49</td>\n",
       "      <td>5.542674</td>\n",
       "      <td>105.249888</td>\n",
       "      <td>USD</td>\n",
       "      <td>94.73%</td>\n",
       "      <td>Data Visualization</td>\n",
       "    </tr>\n",
       "    <tr>\n",
       "      <th>2</th>\n",
       "      <td>1361790</td>\n",
       "      <td>pmp exam prep seminar  pmbok guide 6</td>\n",
       "      <td>True</td>\n",
       "      <td>155282</td>\n",
       "      <td>4.59491</td>\n",
       "      <td>4.59326</td>\n",
       "      <td>52653</td>\n",
       "      <td>292</td>\n",
       "      <td>2017-09-26 16:32:48</td>\n",
       "      <td>2017-11-14 23:58:14</td>\n",
       "      <td>5.542674</td>\n",
       "      <td>105.249888</td>\n",
       "      <td>USD</td>\n",
       "      <td>94.73%</td>\n",
       "      <td>Project Management</td>\n",
       "    </tr>\n",
       "    <tr>\n",
       "      <th>3</th>\n",
       "      <td>648826</td>\n",
       "      <td>the complete financial analyst course 2020</td>\n",
       "      <td>True</td>\n",
       "      <td>245860</td>\n",
       "      <td>4.54407</td>\n",
       "      <td>4.53772</td>\n",
       "      <td>46447</td>\n",
       "      <td>338</td>\n",
       "      <td>2015-10-23 13:34:35</td>\n",
       "      <td>2016-01-21 01:38:48</td>\n",
       "      <td>5.542674</td>\n",
       "      <td>105.249888</td>\n",
       "      <td>USD</td>\n",
       "      <td>94.73%</td>\n",
       "      <td>Finance</td>\n",
       "    </tr>\n",
       "    <tr>\n",
       "      <th>4</th>\n",
       "      <td>637930</td>\n",
       "      <td>an entire mba in 1 courseaward winning busines...</td>\n",
       "      <td>True</td>\n",
       "      <td>374836</td>\n",
       "      <td>4.47080</td>\n",
       "      <td>4.47173</td>\n",
       "      <td>41630</td>\n",
       "      <td>83</td>\n",
       "      <td>2015-10-12 06:39:46</td>\n",
       "      <td>2016-01-11 21:39:33</td>\n",
       "      <td>5.542674</td>\n",
       "      <td>105.249888</td>\n",
       "      <td>USD</td>\n",
       "      <td>94.73%</td>\n",
       "      <td>Business</td>\n",
       "    </tr>\n",
       "  </tbody>\n",
       "</table>\n",
       "</div>"
      ],
      "text/plain": [
       "        id                                              Title  is_paid  \\\n",
       "0   762616  the complete sql bootcamp 2020 go from zero to...     True   \n",
       "1   937678  tableau 2020 az handson tableau training for d...     True   \n",
       "2  1361790               pmp exam prep seminar  pmbok guide 6     True   \n",
       "3   648826         the complete financial analyst course 2020     True   \n",
       "4   637930  an entire mba in 1 courseaward winning busines...     True   \n",
       "\n",
       "   Subscribers  Average rating   Rating  Num reviews  Lectures  \\\n",
       "0       295509         4.66019  4.67874        78006        84   \n",
       "1       209070         4.58956  4.60015        54581        78   \n",
       "2       155282         4.59491  4.59326        52653       292   \n",
       "3       245860         4.54407  4.53772        46447       338   \n",
       "4       374836         4.47080  4.47173        41630        83   \n",
       "\n",
       "               created                 Time  Discount price       Price  \\\n",
       "0  2016-02-14 22:57:48  2016-04-06 05:16:11        5.542674  105.249888   \n",
       "1  2016-08-22 12:10:18  2016-08-23 16:59:49        5.542674  105.249888   \n",
       "2  2017-09-26 16:32:48  2017-11-14 23:58:14        5.542674  105.249888   \n",
       "3  2015-10-23 13:34:35  2016-01-21 01:38:48        5.542674  105.249888   \n",
       "4  2015-10-12 06:39:46  2016-01-11 21:39:33        5.542674  105.249888   \n",
       "\n",
       "  Currency Discount Percentage            Category  \n",
       "0      USD              94.73%            Database  \n",
       "1      USD              94.73%  Data Visualization  \n",
       "2      USD              94.73%  Project Management  \n",
       "3      USD              94.73%             Finance  \n",
       "4      USD              94.73%            Business  "
      ]
     },
     "execution_count": 83,
     "metadata": {},
     "output_type": "execute_result"
    }
   ],
   "source": [
    "def categorize_title(title):\n",
    "    title_lower = title.lower()\n",
    "    if 'sql' in title_lower or 'mysql' in title_lower or 'database' in title_lower:\n",
    "        return 'Database'\n",
    "    elif 'tableau' in title_lower or 'power bi' in title_lower or 'data viz' in title_lower:\n",
    "        return 'Data Visualization'\n",
    "    elif 'excel' in title_lower or 'spreadsheet' in title_lower:\n",
    "        return 'Spreadsheet'\n",
    "    elif any(kw in title_lower for kw in ['agile', 'scrum', 'pmp', 'project management']):\n",
    "        return 'Project Management'\n",
    "    elif any(kw in title_lower for kw in ['financial', 'finance', 'accounting']):\n",
    "        return 'Finance'\n",
    "    elif 'mba' in title_lower or 'business' in title_lower or 'enterprise' in title_lower:\n",
    "        return 'Business'\n",
    "    elif any(kw in title_lower for kw in ['write', 'writing', 'editorial']):\n",
    "        return 'Writing'\n",
    "    elif 'sale' in title_lower or 'marketing' in title_lower:\n",
    "        return 'Sales/Marketing'\n",
    "    elif any(kw in title_lower for kw in ['data science', 'analytics', 'machine learning']):\n",
    "        return 'Data Science'\n",
    "    elif 'management' in title_lower:\n",
    "        return 'Management'\n",
    "    elif 'leadership' in title_lower:\n",
    "        return 'Leadership'\n",
    "    elif 'communication' in title_lower:\n",
    "        return 'Communication'\n",
    "    else:\n",
    "        return 'Other'\n",
    "\n",
    "df['Category'] = df['Title'].apply(categorize_title)        ## This function categorizes the courses based on the title and adds the category to the 'Category' column.\n",
    "df.head()"
   ]
  },
  {
   "cell_type": "code",
   "execution_count": 84,
   "metadata": {},
   "outputs": [
    {
     "data": {
      "text/plain": [
       "Category\n",
       "Other                 8685\n",
       "Business              1450\n",
       "Finance               1119\n",
       "Management             523\n",
       "Sales/Marketing        516\n",
       "Project Management     374\n",
       "Spreadsheet            263\n",
       "Writing                259\n",
       "Data Visualization     129\n",
       "Data Science            99\n",
       "Leadership              74\n",
       "Communication           71\n",
       "Database                46\n",
       "Name: count, dtype: int64"
      ]
     },
     "execution_count": 84,
     "metadata": {},
     "output_type": "execute_result"
    }
   ],
   "source": [
    "df['Category'].value_counts()"
   ]
  },
  {
   "cell_type": "markdown",
   "metadata": {},
   "source": [
    "# Outlier detection and deletion"
   ]
  },
  {
   "cell_type": "markdown",
   "metadata": {},
   "source": [
    "## Visualizing Box Plot Graph for Columns with potential outliers"
   ]
  },
  {
   "cell_type": "code",
   "execution_count": 85,
   "metadata": {},
   "outputs": [],
   "source": [
    "numerical_columns = ['Subscribers','Price','Discount price']        ## This function returns the numerical columns in the dataset."
   ]
  },
  {
   "cell_type": "code",
   "execution_count": 86,
   "metadata": {},
   "outputs": [
    {
     "data": {
      "image/png": "[encoded data removed]",
      "text/plain": [
       "<Figure size 640x480 with 1 Axes>"
      ]
     },
     "metadata": {},
     "output_type": "display_data"
    },
    {
     "data": {
      "image/png": "[encoded data removed]",
      "text/plain": [
       "<Figure size 640x480 with 1 Axes>"
      ]
     },
     "metadata": {},
     "output_type": "display_data"
    },
    {
     "data": {
      "image/png": "[encoded data removed]",
      "text/plain": [
       "<Figure size 640x480 with 1 Axes>"
      ]
     },
     "metadata": {},
     "output_type": "display_data"
    }
   ],
   "source": [
    "for column in numerical_columns:\n",
    "    plt.boxplot(df[column],vert=False)\n",
    "    plt.title(f'Box Plot of {column}')\n",
    "    plt.ylabel('column')\n",
    "    plt.grid()\n",
    "    plt.show()"
   ]
  },
  {
   "cell_type": "markdown",
   "metadata": {},
   "source": [
    "## Calculating the standard deviation and mean for each feature"
   ]
  },
  {
   "cell_type": "code",
   "execution_count": 87,
   "metadata": {},
   "outputs": [
    {
     "data": {
      "image/png": "[encoded data removed]",
      "text/plain": [
       "<Figure size 640x480 with 1 Axes>"
      ]
     },
     "metadata": {},
     "output_type": "display_data"
    },
    {
     "data": {
      "image/png": "[encoded data removed]",
      "text/plain": [
       "<Figure size 640x480 with 1 Axes>"
      ]
     },
     "metadata": {},
     "output_type": "display_data"
    },
    {
     "data": {
      "image/png": "[encoded data removed]",
      "text/plain": [
       "<Figure size 640x480 with 1 Axes>"
      ]
     },
     "metadata": {},
     "output_type": "display_data"
    }
   ],
   "source": [
    "for column in numerical_columns:\n",
    "    mu = df[column].mean()\n",
    "    sigma = df[column].std()\n",
    "    plt.hist(df[column])\n",
    "    plt.title(f'Box Plot of {column}')\n",
    "    plt.ylabel('column')\n",
    "    plt.axvline(mu, color=\"black\", linestyle=\"solid\", label=f\"Mean = {mu:.2f}\")\n",
    "    plt.axvline(mu + 3 * sigma, color='red', linestyle=\"dashed\", label=f\"+{3} Std Dev\")\n",
    "    plt.axvline(mu - 3 * sigma, color='red', linestyle=\"dashed\", label=f\"-{3} Std Dev\")\n",
    "    plt.grid()\n",
    "    plt.legend()\n",
    "    plt.show()"
   ]
  },
  {
   "cell_type": "markdown",
   "metadata": {},
   "source": [
    "## Calculating each outlier info"
   ]
  },
  {
   "cell_type": "code",
   "execution_count": 88,
   "metadata": {},
   "outputs": [
    {
     "name": "stdout",
     "output_type": "stream",
     "text": [
      "Outlier info for Subscribers:\n",
      "  Mean: 2847.01\n",
      "  Standard Deviation: 9437.87\n",
      "  Number of Outliers: 155\n",
      "  Sample Outliers: [295509, 209070, 155282, 245860, 374836]\n",
      "--------------------------------------------------\n",
      "Outlier info for Price:\n",
      "  Mean: 55.96\n",
      "  Standard Deviation: 37.32\n",
      "  Number of Outliers: 0\n",
      "  Sample Outliers: []\n",
      "--------------------------------------------------\n",
      "Outlier info for Discount price:\n",
      "  Mean: 5.97\n",
      "  Standard Deviation: 3.09\n",
      "  Number of Outliers: 209\n",
      "  Sample Outliers: [35.083296, 19.49072, 25.337936, 25.337936, 35.083296]\n",
      "--------------------------------------------------\n"
     ]
    }
   ],
   "source": [
    "outlier_info = {}   # Creating an empty dictionary with key:value pair and each value has muliple sub-values for the same column\n",
    "\n",
    "# Looping through the numerical columns to calculate mean, standard deviation, and outliers\n",
    "for column in numerical_columns:\n",
    "    mean_value = df[column].mean()\n",
    "    std_dev = df[column].std()\n",
    "    \n",
    "    # Finding outliers using 3 standard deviations from the mean\n",
    "    outliers = df[(df[column] < mean_value - 3 * std_dev) | (df[column] > mean_value + 3 * std_dev)]\n",
    "    \n",
    "    # Storing the details in the dictionary\n",
    "    outlier_info[column] = {\n",
    "        'mean': round(mean_value, 2),\n",
    "        'std_dev': round(std_dev, 2),\n",
    "        'num_outliers': len(outliers),\n",
    "        'outlier_values': outliers[column].values.tolist()[:5]  # Show first 5 outliers\n",
    "        }\n",
    "    \n",
    "# Iterating through the outlier_info dictionary and printing each column's details\n",
    "for column in outlier_info:\n",
    "    print(f\"Outlier info for {column}:\")\n",
    "    print(f\"  Mean: {outlier_info[column]['mean']}\")\n",
    "    print(f\"  Standard Deviation: {outlier_info[column]['std_dev']}\")\n",
    "    print(f\"  Number of Outliers: {outlier_info[column]['num_outliers']}\")\n",
    "    print(f\"  Sample Outliers: {outlier_info[column]['outlier_values']}\")\n",
    "    print(\"-\" * 50)"
   ]
  },
  {
   "cell_type": "markdown",
   "metadata": {},
   "source": [
    "# Exporting the Cleaned data to a CSV file"
   ]
  },
  {
   "cell_type": "code",
   "execution_count": null,
   "metadata": {},
   "outputs": [
    {
     "name": "stdout",
     "output_type": "stream",
     "text": [
      "Data exported successfully as 'cleaned_data.csv'\n"
     ]
    }
   ],
   "source": [
    "df.to_csv('cleaned_data.csv', index=False)      ## This function exports the cleaned data to a CSV file.\n",
    "\n",
    "print(\"Data exported successfully as 'cleaned_data.csv'\")"
   ]
  },
  {
   "cell_type": "markdown",
   "metadata": {},
   "source": [
    "# MySQL Implementation"
   ]
  },
  {
   "cell_type": "markdown",
   "metadata": {},
   "source": [
    "## Creating a connection creation function"
   ]
  },
  {
   "cell_type": "code",
   "execution_count": 90,
   "metadata": {},
   "outputs": [],
   "source": [
    "def create_connection():\n",
    "    \"\"\"Create and return a MySQL database connection and cursor.\"\"\"\n",
    "    \n",
    "    # Establish the connection\n",
    "    mydb = mysql.connector.connect(\n",
    "        host=\"localhost\",\n",
    "        user=\"root\",\n",
    "        password=\"\",\n",
    "        database=\"\"        # Need to fill this path for the intended database\n",
    "    )\n",
    "    \n",
    "    # Create a cursor\n",
    "    conn = mydb.cursor()\n",
    "    \n",
    "    print(\"Connection to the database was successful.\")\n",
    "    print(\"≡\" * 50)\n",
    "    return mydb, conn       ## This function creates a connection to the MySQL database and returns the connection and cursor."
   ]
  },
  {
   "cell_type": "markdown",
   "metadata": {},
   "source": [
    "## Connecting the Database"
   ]
  },
  {
   "cell_type": "code",
   "execution_count": 91,
   "metadata": {},
   "outputs": [
    {
     "name": "stdout",
     "output_type": "stream",
     "text": [
      "Connection to the database was successful.\n",
      "≡≡≡≡≡≡≡≡≡≡≡≡≡≡≡≡≡≡≡≡≡≡≡≡≡≡≡≡≡≡≡≡≡≡≡≡≡≡≡≡≡≡≡≡≡≡≡≡≡≡\n"
     ]
    }
   ],
   "source": [
    "mydb, conn = create_connection()"
   ]
  },
  {
   "cell_type": "markdown",
   "metadata": {},
   "source": [
    "## Database code"
   ]
  },
  {
   "cell_type": "code",
   "execution_count": 92,
   "metadata": {},
   "outputs": [
    {
     "data": {
      "text/plain": [
       "Index(['id', 'Title', 'is_paid', 'Subscribers', 'Average rating', 'Rating',\n",
       "       'Num reviews', 'Lectures', 'created', 'Time', 'Discount price', 'Price',\n",
       "       'Currency', 'Discount Percentage', 'Category'],\n",
       "      dtype='object')"
      ]
     },
     "execution_count": 92,
     "metadata": {},
     "output_type": "execute_result"
    }
   ],
   "source": [
    "file_path = \"cleaned_data.csv\"\n",
    "\n",
    "data = pd.read_csv(file_path)\n",
    "data.columns"
   ]
  },
  {
   "cell_type": "code",
   "execution_count": 93,
   "metadata": {},
   "outputs": [
    {
     "name": "stdout",
     "output_type": "stream",
     "text": [
      "Connection to the database was successful.\n",
      "≡≡≡≡≡≡≡≡≡≡≡≡≡≡≡≡≡≡≡≡≡≡≡≡≡≡≡≡≡≡≡≡≡≡≡≡≡≡≡≡≡≡≡≡≡≡≡≡≡≡\n"
     ]
    },
    {
     "data": {
      "text/plain": [
       "True"
      ]
     },
     "execution_count": 93,
     "metadata": {},
     "output_type": "execute_result"
    }
   ],
   "source": [
    "# Re-connecting to the database\n",
    "mydb, conn = create_connection()\n",
    "\n",
    "# Dropping the existing database if it exists and creating a new one\n",
    "conn.execute(\"DROP DATABASE IF EXISTS Course_db\")\n",
    "conn.execute(\"CREATE DATABASE IF NOT EXISTS Course_db\")\n",
    "conn.execute(\"USE Course_db\")\n",
    "\n",
    "# Creating the table with the specified column names\n",
    "create_sql = \"\"\"\n",
    "CREATE TABLE IF NOT EXISTS courses_table (\n",
    "    id INT PRIMARY KEY,\n",
    "    Title TEXT,\n",
    "    is_paid BOOLEAN,\n",
    "    Subscribers INT,\n",
    "    `Average rating` FLOAT,\n",
    "    Rating FLOAT,\n",
    "    `Num reviews` INT,\n",
    "    Lectures INT,\n",
    "    created DATETIME,\n",
    "    Time DATETIME,\n",
    "    `Discount price` FLOAT,\n",
    "    Price FLOAT,\n",
    "    Currency TEXT,\n",
    "    `Discount Percentage` FLOAT,\n",
    "    Category TEXT\n",
    ");\n",
    "\"\"\"\n",
    "conn.execute(create_sql)\n",
    "\n",
    "conn.close()"
   ]
  },
  {
   "cell_type": "markdown",
   "metadata": {},
   "source": [
    "## Making the max allowed packet size larger so the process of data population becomes easier"
   ]
  },
  {
   "cell_type": "code",
   "execution_count": 94,
   "metadata": {},
   "outputs": [
    {
     "name": "stdout",
     "output_type": "stream",
     "text": [
      "Connection to the database was successful.\n",
      "≡≡≡≡≡≡≡≡≡≡≡≡≡≡≡≡≡≡≡≡≡≡≡≡≡≡≡≡≡≡≡≡≡≡≡≡≡≡≡≡≡≡≡≡≡≡≡≡≡≡\n"
     ]
    }
   ],
   "source": [
    "# Seting the max_allowed_packet size to a larger value\n",
    "mydb, conn = create_connection()\n",
    "conn.execute(\"SET GLOBAL max_allowed_packet=64*1024*1024\")  # Set to 64MB"
   ]
  },
  {
   "cell_type": "markdown",
   "metadata": {},
   "source": [
    "## Populating the Database with the data in our exported CSV file"
   ]
  },
  {
   "cell_type": "code",
   "execution_count": 95,
   "metadata": {},
   "outputs": [
    {
     "name": "stdout",
     "output_type": "stream",
     "text": [
      "Connection to the database was successful.\n",
      "≡≡≡≡≡≡≡≡≡≡≡≡≡≡≡≡≡≡≡≡≡≡≡≡≡≡≡≡≡≡≡≡≡≡≡≡≡≡≡≡≡≡≡≡≡≡≡≡≡≡\n",
      "Data successfully saved to the MySQL database.\n"
     ]
    }
   ],
   "source": [
    "# Re-connecting to the database\n",
    "mydb, conn = create_connection()\n",
    "conn.execute(\"USE Course_db\")\n",
    "\n",
    "# Inserting data into the MySQL table\n",
    "insert_sql = \"\"\"\n",
    "INSERT INTO courses_table (id, Title, is_paid, Subscribers, `Average rating`, Rating, `Num reviews`, \n",
    "                                   Lectures, created, Time, `Discount price`, Price, Currency, `Discount Percentage`, Category)\n",
    "VALUES (%s, %s, %s, %s, %s, %s, %s, %s, %s, %s, %s, %s, %s, %s, %s)\n",
    "\"\"\"\n",
    "\n",
    "data_values = [\n",
    "    (\n",
    "        row['id'], row['Title'], row['is_paid'], row['Subscribers'], row['Average rating'],\n",
    "        row['Rating'], row['Num reviews'], row['Lectures'],\n",
    "        row['created'], row['Time'], row['Discount price'], row['Price'],\n",
    "        row['Currency'], row['Discount Percentage'], row['Category']\n",
    "    )\n",
    "    for _, row in df.iterrows()\n",
    "]\n",
    "\n",
    "# Executing batch insert\n",
    "conn.executemany(insert_sql, data_values)\n",
    "mydb.commit()\n",
    "\n",
    "print(\"Data successfully saved to the MySQL database.\")\n",
    "\n",
    "# Closing the connection\n",
    "conn.close()\n",
    "mydb.close()"
   ]
  },
  {
   "cell_type": "markdown",
   "metadata": {},
   "source": [
    "# Checking the Columns in order to Ensure consistency"
   ]
  },
  {
   "cell_type": "code",
   "execution_count": 96,
   "metadata": {},
   "outputs": [
    {
     "name": "stdout",
     "output_type": "stream",
     "text": [
      "Connection to the database was successful.\n",
      "≡≡≡≡≡≡≡≡≡≡≡≡≡≡≡≡≡≡≡≡≡≡≡≡≡≡≡≡≡≡≡≡≡≡≡≡≡≡≡≡≡≡≡≡≡≡≡≡≡≡\n",
      "Table columns: [('id', 'int(11)', 'NO', 'PRI', None, ''), ('Title', 'text', 'YES', '', None, ''), ('is_paid', 'tinyint(1)', 'YES', '', None, ''), ('Subscribers', 'int(11)', 'YES', '', None, ''), ('Average rating', 'float', 'YES', '', None, ''), ('Rating', 'float', 'YES', '', None, ''), ('Num reviews', 'int(11)', 'YES', '', None, ''), ('Lectures', 'int(11)', 'YES', '', None, ''), ('created', 'datetime', 'YES', '', None, ''), ('Time', 'datetime', 'YES', '', None, ''), ('Discount price', 'float', 'YES', '', None, ''), ('Price', 'float', 'YES', '', None, ''), ('Currency', 'text', 'YES', '', None, ''), ('Discount Percentage', 'float', 'YES', '', None, ''), ('Category', 'text', 'YES', '', None, '')]\n"
     ]
    }
   ],
   "source": [
    "# Re-connecting to the database\n",
    "mydb, conn = create_connection()\n",
    "conn.execute(\"USE Course_db\")\n",
    "\n",
    "conn.execute(\"DESCRIBE courses_table;\")\n",
    "columns = conn.fetchall()\n",
    "print(\"Table columns:\", columns)"
   ]
  },
  {
   "cell_type": "markdown",
   "metadata": {},
   "source": [
    "# MySQL Queries"
   ]
  },
  {
   "cell_type": "markdown",
   "metadata": {},
   "source": [
    "## Sort and identify top courses by:"
   ]
  },
  {
   "cell_type": "markdown",
   "metadata": {},
   "source": [
    "### Rating"
   ]
  },
  {
   "cell_type": "code",
   "execution_count": 97,
   "metadata": {},
   "outputs": [
    {
     "name": "stdout",
     "output_type": "stream",
     "text": [
      "Connection to the database was successful.\n",
      "≡≡≡≡≡≡≡≡≡≡≡≡≡≡≡≡≡≡≡≡≡≡≡≡≡≡≡≡≡≡≡≡≡≡≡≡≡≡≡≡≡≡≡≡≡≡≡≡≡≡\n",
      "Top 10 Courses by Rating:\n",
      "------------------------------\n",
      "('the ultimate technical  fundamental analysis', 5.0)\n",
      "----------------------------------------------------------------------\n",
      "('practical approach to corporate compliance', 5.0)\n",
      "----------------------------------------------------------------------\n",
      "('diy ethicalsustainable investing pays tutorial', 5.0)\n",
      "----------------------------------------------------------------------\n",
      "('12th accountancy cbse', 5.0)\n",
      "----------------------------------------------------------------------\n",
      "('how to present an offer so it gets accepted', 5.0)\n",
      "----------------------------------------------------------------------\n",
      "('persuasion psychology  influence  close the deal', 5.0)\n",
      "----------------------------------------------------------------------\n",
      "('design implement and update the collection policy', 5.0)\n",
      "----------------------------------------------------------------------\n",
      "('evaluate startup ideas  10 steps to score your idea', 5.0)\n",
      "----------------------------------------------------------------------\n",
      "('negotiation mastery become a world class negotiator', 5.0)\n",
      "----------------------------------------------------------------------\n",
      "('personal finance for you  simple and easy course canada', 5.0)\n",
      "----------------------------------------------------------------------\n"
     ]
    }
   ],
   "source": [
    "# Re-connecting to the database\n",
    "mydb, conn = create_connection()\n",
    "conn.execute(\"USE Course_db\")\n",
    "\n",
    "# Sorting by Rating (Top 10 Courses)\n",
    "Sort_by_Rating = \"\"\"\n",
    "SELECT Title, `Average rating`\n",
    "FROM courses_table\n",
    "ORDER BY `Average rating` DESC\n",
    "LIMIT 10;\n",
    "\"\"\"\n",
    "\n",
    "# Execute the query\n",
    "conn.execute(Sort_by_Rating)\n",
    "\n",
    "# Fetch the results\n",
    "results = conn.fetchall()\n",
    "\n",
    "# Check if any results are found and print them\n",
    "if results:\n",
    "    print(\"Top 10 Courses by Rating:\")\n",
    "    print(\"-\"*30)\n",
    "    for row in results:\n",
    "        print(row)\n",
    "        print(\"-\"*70)\n",
    "else:\n",
    "    print(\"No results found.\")"
   ]
  },
  {
   "cell_type": "markdown",
   "metadata": {},
   "source": [
    "### Number of subscribers (if available)\n"
   ]
  },
  {
   "cell_type": "code",
   "execution_count": 98,
   "metadata": {},
   "outputs": [
    {
     "name": "stdout",
     "output_type": "stream",
     "text": [
      "Connection to the database was successful.\n",
      "≡≡≡≡≡≡≡≡≡≡≡≡≡≡≡≡≡≡≡≡≡≡≡≡≡≡≡≡≡≡≡≡≡≡≡≡≡≡≡≡≡≡≡≡≡≡≡≡≡≡\n",
      "Top 10 Courses by Subscribers:\n",
      "------------------------------\n",
      "('an entire mba in 1 courseaward winning business school prof', 374836)\n",
      "----------------------------------------------------------------------\n",
      "('the complete sql bootcamp 2020 go from zero to hero', 295509)\n",
      "----------------------------------------------------------------------\n",
      "('stock market investing for beginners', 259888)\n",
      "----------------------------------------------------------------------\n",
      "('the complete financial analyst course 2020', 245860)\n",
      "----------------------------------------------------------------------\n",
      "('deep learning prerequisites the numpy stack in python v2', 239309)\n",
      "----------------------------------------------------------------------\n",
      "('tableau 2020 az handson tableau training for data science', 209070)\n",
      "----------------------------------------------------------------------\n",
      "('the complete financial analyst training  investing course', 182002)\n",
      "----------------------------------------------------------------------\n",
      "('the complete presentation and public speakingspeech course', 158654)\n",
      "----------------------------------------------------------------------\n",
      "('pmp exam prep seminar  pmbok guide 6', 155282)\n",
      "----------------------------------------------------------------------\n",
      "('introduction to finance accounting modeling and valuation', 140676)\n",
      "----------------------------------------------------------------------\n"
     ]
    }
   ],
   "source": [
    "# Re-connecting to the database\n",
    "mydb, conn = create_connection()\n",
    "conn.execute(\"USE Course_db\")\n",
    "\n",
    "# Sorting by Subscribers (Top 10 Courses)\n",
    "Sort_by_Subscribers = \"\"\"\n",
    "SELECT Title, Subscribers\n",
    "FROM courses_table\n",
    "ORDER BY Subscribers DESC\n",
    "LIMIT 10;\n",
    "\"\"\"\n",
    "\n",
    "# Execute the query\n",
    "conn.execute(Sort_by_Subscribers)\n",
    "\n",
    "# Fetch the results\n",
    "results = conn.fetchall()\n",
    "\n",
    "# Check if any results are found and print them\n",
    "if results:\n",
    "    print(\"Top 10 Courses by Subscribers:\")\n",
    "    print(\"-\"*30)\n",
    "    for row in results:\n",
    "        print(row)\n",
    "        print(\"-\"*70)\n",
    "else:\n",
    "    print(\"No results found.\")"
   ]
  },
  {
   "cell_type": "markdown",
   "metadata": {},
   "source": [
    "### Discount percentage (created during preprocessing)"
   ]
  },
  {
   "cell_type": "code",
   "execution_count": 99,
   "metadata": {},
   "outputs": [
    {
     "name": "stdout",
     "output_type": "stream",
     "text": [
      "Connection to the database was successful.\n",
      "≡≡≡≡≡≡≡≡≡≡≡≡≡≡≡≡≡≡≡≡≡≡≡≡≡≡≡≡≡≡≡≡≡≡≡≡≡≡≡≡≡≡≡≡≡≡≡≡≡≡\n",
      "Top 10 Courses by Discount Percentage:\n",
      "----------------------------------------\n",
      "('sap fico financial accounting  management accounting', 94.74)\n",
      "----------------------------------------------------------------------\n",
      "('how to be an expert in piping components for oilgas career', 94.74)\n",
      "----------------------------------------------------------------------\n",
      "('101 hypnosis downloads get the life you desire with hypnosis', 94.74)\n",
      "----------------------------------------------------------------------\n",
      "('fintech  digital payments card  pos', 94.74)\n",
      "----------------------------------------------------------------------\n",
      "('financial management in tamil தமழ மழயல நத மலணம', 94.74)\n",
      "----------------------------------------------------------------------\n",
      "('amazon kindle ebook publishing  how to publish on kindle', 94.74)\n",
      "----------------------------------------------------------------------\n",
      "('lean six sigma green belt online course 2020', 94.74)\n",
      "----------------------------------------------------------------------\n",
      "('uipath  level 1 robotic process automation', 94.74)\n",
      "----------------------------------------------------------------------\n",
      "('ebay partner network create affiliate home business fast', 94.74)\n",
      "----------------------------------------------------------------------\n",
      "('basics of commerce a complete study', 94.74)\n",
      "----------------------------------------------------------------------\n"
     ]
    }
   ],
   "source": [
    "# Re-connecting to the database\n",
    "mydb, conn = create_connection()\n",
    "conn.execute(\"USE Course_db\")\n",
    "\n",
    "# Sorting by Discount Percentage (Top 10 Courses)\n",
    "Sort_by_Discount_Percentage = \"\"\"\n",
    "SELECT Title, `Discount Percentage`\n",
    "FROM courses_table\n",
    "ORDER BY `Discount Percentage` DESC\n",
    "LIMIT 10;\n",
    "\"\"\"\n",
    "\n",
    "# Execute the query\n",
    "conn.execute(Sort_by_Discount_Percentage)\n",
    "\n",
    "# Fetch the results\n",
    "results = conn.fetchall()\n",
    "\n",
    "# Check if any results are found and print them\n",
    "if results:\n",
    "    print(\"Top 10 Courses by Discount Percentage:\")\n",
    "    print(\"-\"*40)\n",
    "    for row in results:\n",
    "        print(row)\n",
    "        print(\"-\"*70)\n",
    "else:\n",
    "    print(\"No results found.\")"
   ]
  },
  {
   "cell_type": "markdown",
   "metadata": {},
   "source": [
    "## Identify the most expensive courses\n"
   ]
  },
  {
   "cell_type": "code",
   "execution_count": 100,
   "metadata": {},
   "outputs": [
    {
     "name": "stdout",
     "output_type": "stream",
     "text": [
      "Connection to the database was successful.\n",
      "≡≡≡≡≡≡≡≡≡≡≡≡≡≡≡≡≡≡≡≡≡≡≡≡≡≡≡≡≡≡≡≡≡≡≡≡≡≡≡≡≡≡≡≡≡≡≡≡≡≡\n",
      "Top 10 Most Expensive Courses in USD: \n",
      "----------------------------------------\n",
      "('demand and supply trading', 155.926)\n",
      "----------------------------------------------------------------------\n",
      "('learn to fix iphones and start a delivery service', 155.926)\n",
      "----------------------------------------------------------------------\n",
      "('professional trading with institutional supply  demand', 155.926)\n",
      "----------------------------------------------------------------------\n",
      "('a structured approach to financial valuation modelling', 155.926)\n",
      "----------------------------------------------------------------------\n",
      "('análise técnica de ativos', 155.926)\n",
      "----------------------------------------------------------------------\n",
      "('manage project cost', 155.926)\n",
      "----------------------------------------------------------------------\n",
      "('learn to trade the news', 155.926)\n",
      "----------------------------------------------------------------------\n",
      "('leadership foundational training for first time managers', 155.926)\n",
      "----------------------------------------------------------------------\n",
      "('manage project procurement', 155.926)\n",
      "----------------------------------------------------------------------\n",
      "('remote pmp management consulting meetings hypnotic edition', 155.926)\n",
      "----------------------------------------------------------------------\n"
     ]
    }
   ],
   "source": [
    "# Re-connecting to the database\n",
    "mydb, conn = create_connection()\n",
    "conn.execute(\"USE Course_db\")\n",
    "\n",
    "# Sorting by Discount Percentage (Top 10 Courses)\n",
    "Sort_by_most_expensive = \"\"\"\n",
    "SELECT Title, price\n",
    "FROM courses_table\n",
    "ORDER BY price DESC\n",
    "LIMIT 10;\n",
    "\"\"\"\n",
    "\n",
    "# Execute the query\n",
    "conn.execute(Sort_by_most_expensive)\n",
    "\n",
    "# Fetch the results\n",
    "results = conn.fetchall()\n",
    "\n",
    "# Check if any results are found and print them\n",
    "if results:\n",
    "    print(\"Top 10 Most Expensive Courses in USD: \")\n",
    "    print(\"-\"*40)\n",
    "    for row in results:\n",
    "        print(row)\n",
    "        print(\"-\"*70)\n",
    "else:\n",
    "    print(\"No results found.\")"
   ]
  },
  {
   "cell_type": "markdown",
   "metadata": {},
   "source": [
    "## Group the data by category and calculate:"
   ]
  },
  {
   "cell_type": "markdown",
   "metadata": {},
   "source": [
    "### Number of courses in each category\n"
   ]
  },
  {
   "cell_type": "code",
   "execution_count": 101,
   "metadata": {},
   "outputs": [
    {
     "name": "stdout",
     "output_type": "stream",
     "text": [
      "Connection to the database was successful.\n",
      "≡≡≡≡≡≡≡≡≡≡≡≡≡≡≡≡≡≡≡≡≡≡≡≡≡≡≡≡≡≡≡≡≡≡≡≡≡≡≡≡≡≡≡≡≡≡≡≡≡≡\n",
      "Count of courses for each Price Category: \n",
      "----------------------------------------\n",
      "('Business', 1450)\n",
      "----------------------------------------------------------------------\n",
      "('Communication', 71)\n",
      "----------------------------------------------------------------------\n",
      "('Data Science', 99)\n",
      "----------------------------------------------------------------------\n",
      "('Data Visualization', 129)\n",
      "----------------------------------------------------------------------\n",
      "('Database', 46)\n",
      "----------------------------------------------------------------------\n",
      "('Finance', 1119)\n",
      "----------------------------------------------------------------------\n",
      "('Leadership', 74)\n",
      "----------------------------------------------------------------------\n",
      "('Management', 523)\n",
      "----------------------------------------------------------------------\n",
      "('Other', 8685)\n",
      "----------------------------------------------------------------------\n",
      "('Project Management', 374)\n",
      "----------------------------------------------------------------------\n",
      "('Sales/Marketing', 516)\n",
      "----------------------------------------------------------------------\n",
      "('Spreadsheet', 263)\n",
      "----------------------------------------------------------------------\n",
      "('Writing', 259)\n",
      "----------------------------------------------------------------------\n"
     ]
    }
   ],
   "source": [
    "# Re-connecting to the database\n",
    "mydb, conn = create_connection()\n",
    "conn.execute(\"USE Course_db\")\n",
    "\n",
    "# Calculating the number of courses per price category \n",
    "Sort_by_price_category = \"\"\"\n",
    "SELECT Category, COUNT(*) AS num_courses\n",
    "FROM courses_table\n",
    "GROUP BY Category;\n",
    "\"\"\"\n",
    "\n",
    "\n",
    "# Execute the query\n",
    "conn.execute(Sort_by_price_category)\n",
    "\n",
    "# Fetch the results\n",
    "results = conn.fetchall()\n",
    "\n",
    "# Check if any results are found and print them\n",
    "if results:\n",
    "    print(\"Count of courses for each Price Category: \")\n",
    "    print(\"-\"*40)\n",
    "    for row in results:\n",
    "        print(row)\n",
    "        print(\"-\"*70)\n",
    "else:\n",
    "    print(\"No results found.\")"
   ]
  },
  {
   "cell_type": "markdown",
   "metadata": {},
   "source": [
    "### Average number of reviews per category"
   ]
  },
  {
   "cell_type": "code",
   "execution_count": 102,
   "metadata": {},
   "outputs": [
    {
     "name": "stdout",
     "output_type": "stream",
     "text": [
      "Connection to the database was successful.\n",
      "≡≡≡≡≡≡≡≡≡≡≡≡≡≡≡≡≡≡≡≡≡≡≡≡≡≡≡≡≡≡≡≡≡≡≡≡≡≡≡≡≡≡≡≡≡≡≡≡≡≡\n",
      "Average Number of Reviews per Price Category: \n",
      "--------------------------------------------------\n",
      "('Business', Decimal('216.8503'))\n",
      "----------------------------------------------------------------------\n",
      "('Communication', Decimal('575.9155'))\n",
      "----------------------------------------------------------------------\n",
      "('Data Science', Decimal('264.2424'))\n",
      "----------------------------------------------------------------------\n",
      "('Data Visualization', Decimal('1497.5891'))\n",
      "----------------------------------------------------------------------\n",
      "('Database', Decimal('2757.6522'))\n",
      "----------------------------------------------------------------------\n",
      "('Finance', Decimal('250.3825'))\n",
      "----------------------------------------------------------------------\n",
      "('Leadership', Decimal('543.5541'))\n",
      "----------------------------------------------------------------------\n",
      "('Management', Decimal('244.9006'))\n",
      "----------------------------------------------------------------------\n",
      "('Other', Decimal('191.0984'))\n",
      "----------------------------------------------------------------------\n",
      "('Project Management', Decimal('624.8075'))\n",
      "----------------------------------------------------------------------\n",
      "('Sales/Marketing', Decimal('160.0484'))\n",
      "----------------------------------------------------------------------\n",
      "('Spreadsheet', Decimal('299.3726'))\n",
      "----------------------------------------------------------------------\n",
      "('Writing', Decimal('402.9305'))\n",
      "----------------------------------------------------------------------\n"
     ]
    }
   ],
   "source": [
    "# Re-connecting to the database\n",
    "mydb, conn = create_connection()\n",
    "conn.execute(\"USE Course_db\")\n",
    "\n",
    "# Calculating the average number of reviews per Price category\n",
    "Sort_by_reviews_category = \"\"\"\n",
    "SELECT Category, AVG(`Num reviews`) AS avg_reviews\n",
    "FROM courses_table\n",
    "GROUP BY Category;\n",
    "\"\"\"\n",
    "\n",
    "\n",
    "# Execute the query\n",
    "conn.execute(Sort_by_reviews_category)\n",
    "\n",
    "# Fetch the results\n",
    "results = conn.fetchall()\n",
    "\n",
    "# Check if any results are found and print them\n",
    "if results:\n",
    "    print(\"Average Number of Reviews per Price Category: \")\n",
    "    print(\"-\"*50)\n",
    "    for row in results:\n",
    "        print(row)\n",
    "        print(\"-\"*70)\n",
    "else:\n",
    "    print(\"No results found.\")"
   ]
  },
  {
   "cell_type": "markdown",
   "metadata": {},
   "source": [
    "## Analyze discounts:"
   ]
  },
  {
   "cell_type": "markdown",
   "metadata": {},
   "source": [
    "### Calculate average discount percentage offered per category"
   ]
  },
  {
   "cell_type": "code",
   "execution_count": 103,
   "metadata": {},
   "outputs": [
    {
     "name": "stdout",
     "output_type": "stream",
     "text": [
      "Connection to the database was successful.\n",
      "≡≡≡≡≡≡≡≡≡≡≡≡≡≡≡≡≡≡≡≡≡≡≡≡≡≡≡≡≡≡≡≡≡≡≡≡≡≡≡≡≡≡≡≡≡≡≡≡≡≡\n",
      "Average Discount Percentage Offered per Price Category: \n",
      "--------------------------------------------------\n",
      "('Business', 79.20996546778186)\n",
      "----------------------------------------------------------------------\n",
      "('Communication', 72.00774636067135)\n",
      "----------------------------------------------------------------------\n",
      "('Data Science', 80.60272767808702)\n",
      "----------------------------------------------------------------------\n",
      "('Data Visualization', 83.43907011756602)\n",
      "----------------------------------------------------------------------\n",
      "('Database', 87.03478257552437)\n",
      "----------------------------------------------------------------------\n",
      "('Finance', 70.22241272640825)\n",
      "----------------------------------------------------------------------\n",
      "('Leadership', 74.1348652195286)\n",
      "----------------------------------------------------------------------\n",
      "('Management', 79.01759085281401)\n",
      "----------------------------------------------------------------------\n",
      "('Other', 71.92078634250007)\n",
      "----------------------------------------------------------------------\n",
      "('Project Management', 77.46262028128068)\n",
      "----------------------------------------------------------------------\n",
      "('Sales/Marketing', 81.70534916811211)\n",
      "----------------------------------------------------------------------\n",
      "('Spreadsheet', 75.05231918218925)\n",
      "----------------------------------------------------------------------\n",
      "('Writing', 80.99359061635138)\n",
      "----------------------------------------------------------------------\n"
     ]
    }
   ],
   "source": [
    "# Re-connecting to the database\n",
    "mydb, conn = create_connection()\n",
    "conn.execute(\"USE Course_db\")\n",
    "\n",
    "# Categorizing by Price Range\n",
    "Sort_by_avg_discount_percentage = \"\"\"\n",
    "SELECT Category, AVG(`Discount Percentage`) AS avg_discount_percentage\n",
    "FROM courses_table\n",
    "GROUP BY Category;\n",
    "\"\"\"\n",
    "\n",
    "\n",
    "# Execute the query\n",
    "conn.execute(Sort_by_avg_discount_percentage)\n",
    "\n",
    "# Fetch the results\n",
    "results = conn.fetchall()\n",
    "\n",
    "# Check if any results are found and print them\n",
    "if results:\n",
    "    print(\"Average Discount Percentage Offered per Price Category: \")\n",
    "    print(\"-\"*50)\n",
    "    for row in results:\n",
    "        print(row)\n",
    "        print(\"-\"*70)\n",
    "else:\n",
    "    print(\"No results found.\")"
   ]
  },
  {
   "cell_type": "markdown",
   "metadata": {},
   "source": [
    "## Analyze price by paid/free status (if available):"
   ]
  },
  {
   "cell_type": "markdown",
   "metadata": {},
   "source": [
    "### Calculate the median price for courses in each category.\n"
   ]
  },
  {
   "cell_type": "code",
   "execution_count": 104,
   "metadata": {},
   "outputs": [
    {
     "name": "stdout",
     "output_type": "stream",
     "text": [
      "Connection to the database was successful.\n",
      "≡≡≡≡≡≡≡≡≡≡≡≡≡≡≡≡≡≡≡≡≡≡≡≡≡≡≡≡≡≡≡≡≡≡≡≡≡≡≡≡≡≡≡≡≡≡≡≡≡≡\n",
      "Paid / Free Category count: \n",
      "--------------------------------------------------\n",
      "('Free', 496)\n",
      "----------------------------------------------------------------------\n",
      "('Paid', 13112)\n",
      "----------------------------------------------------------------------\n"
     ]
    }
   ],
   "source": [
    "# Re-connecting to the database\n",
    "mydb, conn = create_connection()\n",
    "conn.execute(\"USE Course_db\")\n",
    "\n",
    "# Categorizing paid and free courses based on 'is_paid' column\n",
    "checking_for_paid_or_free = \"\"\"\n",
    "SELECT \n",
    "    CASE \n",
    "        WHEN is_paid = 0 THEN 'Free'\n",
    "        WHEN is_paid = 1 THEN 'Paid'\n",
    "    END AS Status, \n",
    "    COUNT(*) AS num_courses\n",
    "FROM courses_table\n",
    "GROUP BY Status;\n",
    "\"\"\"\n",
    "\n",
    "# Execute the query\n",
    "conn.execute(checking_for_paid_or_free)\n",
    "\n",
    "# Fetch the results\n",
    "results = conn.fetchall()\n",
    "\n",
    "# Check if any results are found and print them\n",
    "if results:\n",
    "    print(\"Paid / Free Category count: \")\n",
    "    print(\"-\"*50)\n",
    "    for row in results:\n",
    "        print(row)\n",
    "        print(\"-\"*70)\n",
    "else:\n",
    "    print(\"No results found.\")\n",
    "\n",
    "# Closing the connection\n",
    "conn.close()\n",
    "mydb.close()\n"
   ]
  },
  {
   "cell_type": "markdown",
   "metadata": {},
   "source": [
    "As the Paid courses are the only ones I can actually calculate their median price value, since Free courses are free so their median would be zero. I will only calculate for the paid courses"
   ]
  },
  {
   "cell_type": "code",
   "execution_count": 105,
   "metadata": {},
   "outputs": [
    {
     "name": "stdout",
     "output_type": "stream",
     "text": [
      "Connection to the database was successful.\n",
      "≡≡≡≡≡≡≡≡≡≡≡≡≡≡≡≡≡≡≡≡≡≡≡≡≡≡≡≡≡≡≡≡≡≡≡≡≡≡≡≡≡≡≡≡≡≡≡≡≡≡\n",
      "Median Price for Paid Courses: 38.9814\n"
     ]
    }
   ],
   "source": [
    "# Re-connecting to the database\n",
    "mydb, conn = create_connection()\n",
    "conn.execute(\"USE Course_db\")\n",
    "\n",
    "# Categorizing paid and free courses based on 'is_paid' column\n",
    "calculate_median = \"\"\"\n",
    "SELECT \n",
    "    price \n",
    "FROM courses_table \n",
    "WHERE is_paid = 1 AND price IS NOT NULL\n",
    "ORDER BY price;\n",
    "\"\"\"\n",
    "\n",
    "# Execute the query\n",
    "conn.execute(calculate_median)\n",
    "\n",
    "# Fetch all the prices\n",
    "prices = conn.fetchall()\n",
    "\n",
    "# Calculate median\n",
    "num_prices = len(prices)\n",
    "if num_prices > 0:\n",
    "    sorted_prices = [price[0] for price in prices]\n",
    "    if num_prices % 2 == 1:  # Odd number of prices\n",
    "        median_price = sorted_prices[num_prices // 2]\n",
    "    else:  # Even number of prices\n",
    "        median_price = (sorted_prices[num_prices // 2 - 1] + sorted_prices[num_prices // 2]) / 2\n",
    "    print(f\"Median Price for Paid Courses: {median_price}\")\n",
    "else:\n",
    "    print(\"No valid price data found for Paid courses.\")\n",
    "\n",
    "# Closing the connection\n",
    "conn.close()\n",
    "mydb.close()"
   ]
  }
 ],
 "metadata": {
  "kernelspec": {
   "display_name": "Python 3",
   "language": "python",
   "name": "python3"
  },
  "language_info": {
   "codemirror_mode": {
    "name": "ipython",
    "version": 3
   },
   "file_extension": ".py",
   "mimetype": "text/x-python",
   "name": "python",
   "nbconvert_exporter": "python",
   "pygments_lexer": "ipython3",
   "version": "3.12.7"
  }
 },
 "nbformat": 4,
 "nbformat_minor": 2
}
